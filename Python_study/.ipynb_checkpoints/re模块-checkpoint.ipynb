{
 "cells": [
  {
   "cell_type": "code",
   "execution_count": 2,
   "id": "34201ef8",
   "metadata": {},
   "outputs": [],
   "source": [
    "import re"
   ]
  },
  {
   "cell_type": "markdown",
   "id": "74d043ea",
   "metadata": {},
   "source": [
    "### findall:匹配字符串中所有复合的内容（结果以list返回）"
   ]
  },
  {
   "cell_type": "code",
   "execution_count": 7,
   "id": "d29a45c1",
   "metadata": {},
   "outputs": [
    {
     "name": "stdout",
     "output_type": "stream",
     "text": [
      "['1008611', '100861']\n"
     ]
    }
   ],
   "source": [
    "list1 = re.findall(r\"\\d+\", \"我的电话号码是：1008611,我的电话号码是：100861\")\n",
    "print(list1)\n"
   ]
  },
  {
   "cell_type": "markdown",
   "id": "63f68f9a",
   "metadata": {},
   "source": [
    "### finiter:匹配字符串中所有符合的内容（结果以迭代器返回）,从迭代器中取出内容需要.group"
   ]
  },
  {
   "cell_type": "code",
   "execution_count": 5,
   "id": "9596137a",
   "metadata": {},
   "outputs": [
    {
     "name": "stdout",
     "output_type": "stream",
     "text": [
      "1008611\n",
      "100861\n"
     ]
    }
   ],
   "source": [
    "iter1 = re.finditer(r\"\\d+\", \"我的电话号码是：1008611,我的电话号码是：100861\")\n",
    "for i in iter1:\n",
    "    print(i.group())"
   ]
  },
  {
   "cell_type": "markdown",
   "id": "adb3c48c",
   "metadata": {},
   "source": [
    "### searchr:匹配字符串中所有复合的内容（结果以match对象返回）,取出内容需要.group"
   ]
  },
  {
   "cell_type": "code",
   "execution_count": 11,
   "id": "dacf7911",
   "metadata": {
    "scrolled": true
   },
   "outputs": [
    {
     "name": "stdout",
     "output_type": "stream",
     "text": [
      "<class 're.Match'>\n",
      "1008611\n"
     ]
    }
   ],
   "source": [
    "s = re.search(r\"\\d+\", \"我的电话号码是：1008611,我的电话号码是：100861\")\n",
    "print(type(s))\n",
    "print(s.group())"
   ]
  },
  {
   "cell_type": "markdown",
   "id": "5fb9e210",
   "metadata": {},
   "source": [
    "###  match:从头开始匹配，相当于加了^"
   ]
  },
  {
   "cell_type": "code",
   "execution_count": 4,
   "id": "ece9c450",
   "metadata": {},
   "outputs": [
    {
     "name": "stdout",
     "output_type": "stream",
     "text": [
      "<class 're.Match'>\n",
      "1008611\n"
     ]
    }
   ],
   "source": [
    "m = re.match(r\"\\d+\", \"1008611,我的电话号码是：100861\")\n",
    "print(type(m))\n",
    "print(m.group())"
   ]
  },
  {
   "cell_type": "markdown",
   "id": "9b8440cc",
   "metadata": {},
   "source": [
    "### 预加载正则表达式"
   ]
  },
  {
   "cell_type": "code",
   "execution_count": 5,
   "id": "ae0f7fc4",
   "metadata": {},
   "outputs": [
    {
     "name": "stdout",
     "output_type": "stream",
     "text": [
      "1008611\n",
      "100861\n"
     ]
    }
   ],
   "source": [
    "obj = re.compile(r\"\\d+\")\n",
    "iter2 = obj.finditer(\"1008611,我的电话号码是：100861\")\n",
    "for i in iter2:\n",
    "    print(i.group())"
   ]
  },
  {
   "cell_type": "markdown",
   "id": "cbbd297a",
   "metadata": {},
   "source": [
    " ### 提取指定字符串 (?P<分组名字>正则)"
   ]
  },
  {
   "cell_type": "code",
   "execution_count": 22,
   "id": "63ceb78a",
   "metadata": {},
   "outputs": [
    {
     "name": "stdout",
     "output_type": "stream",
     "text": [
      "1\n",
      "jay\n",
      "2\n",
      "jay1\n",
      "3\n",
      "jay2\n",
      "4\n",
      "jay3\n",
      "5\n",
      "jay4\n"
     ]
    }
   ],
   "source": [
    "s = \"\"\"\n",
    "<div class='jay'><span id='1'>1号</span></div>\n",
    "<div class='jay1'><span id='2'>2号</span></div>\n",
    "<div class='jay2'><span id='3'>3号</span></div>\n",
    "<div class='jay3'><span id='4'>4号</span></div>\n",
    "<div class='jay4'><span id='5'>5号</span></div>\n",
    "\"\"\"\n",
    "obj = re.compile(r\"<div class='(?P<class>.*?)'><span id='(?P<id>\\d+)'>(?P<xuhao>.*?)</span></div>\", re.S)\n",
    "result = obj.finditer(s)\n",
    "for i in result:\n",
    "    print(i.group(\"id\"))\n",
    "    print(i.group(\"class\"))    "
   ]
  },
  {
   "cell_type": "markdown",
   "id": "20305d29",
   "metadata": {},
   "source": [
    "###  html基础\n",
    "\n",
    "```html\n",
    "<h1 align=\"center\"> i love you </h1>\n",
    "\n",
    "```\n",
    "\n",
    "h1 :标签\n",
    "\n",
    "align：属性\n",
    "\n",
    "center：参数\n",
    "\n"
   ]
  },
  {
   "cell_type": "markdown",
   "id": "d5165be0",
   "metadata": {},
   "source": [
    "### bs4解析\n",
    "1. 拿到页面源代码\n",
    "2. 使用bs4解析"
   ]
  },
  {
   "cell_type": "code",
   "execution_count": 38,
   "id": "76ec89d0",
   "metadata": {},
   "outputs": [],
   "source": [
    "from bs4 import BeautifulSoup as bs\n",
    "import requests\n",
    "import csv\n",
    "def get_caijia(num):\n",
    "    url = f\"http://www.xinfadi.com.cn/marketanalysis/0/list/{num}.shtml\"\n",
    "\n",
    "    resp = requests.get(url)\n",
    "    resp.text\n",
    "\n",
    "    page = bs(resp.text, \"html.parser\")\n",
    "\n",
    "    table = page.find(\"table\",attrs={\"class\":\"hq_table\"})\n",
    "\n",
    "    trs = table.find_all(\"tr\")[1:]\n",
    "    f = open('data.csv',mode='a+',encoding='utf-8')\n",
    "    fw = csv.writer(f)\n",
    "\n",
    "    for tr in trs:\n",
    "        tds = tr.find_all(\"td\")\n",
    "    #     print(tds)\n",
    "        name = tds[0].text  # .text 取标签标记的内容\n",
    "        low_price = tds[1].text\n",
    "        avg_price = tds[2].text \n",
    "        high_price = tds[3].text \n",
    "        sp = tds[4].text \n",
    "        unit = tds[5].text \n",
    "        date = tds[6].text \n",
    "        fw.writerow([name,low_price,avg_price,high_price,sp,unit,date])\n",
    "    f.close()\n",
    "    resp.close()\n",
    "\n",
    "if __name__ == \"__main__\":\n",
    "    for num in range(10):\n",
    "        get_caijia(num)"
   ]
  },
  {
   "cell_type": "code",
   "execution_count": 15,
   "id": "7b15c14b",
   "metadata": {},
   "outputs": [],
   "source": []
  },
  {
   "cell_type": "code",
   "execution_count": 16,
   "id": "cfe17d0c",
   "metadata": {},
   "outputs": [
    {
     "data": {
      "text/plain": [
       "'<!DOCTYPE html PUBLIC \"-//W3C//DTD XHTML 1.0 Transitional//EN\" \"http://www.w3.org/TR/xhtml1/DTD/xhtml1-transitional.dtd\">\\r\\n<html xmlns=\"http://www.w3.org/1999/xhtml\">\\r\\n<head>\\r\\n<meta http-equiv=\"Content-Type\" content=\"text/html; charset=utf-8\" />\\r\\n<title> 每日价格行情 - 北京新发地市场</title>\\r\\n<link rel=\"stylesheet\" href=\"/common.css\" />\\r\\n<link rel=\"stylesheet\" href=\"/content.css?20130710\" />\\r\\n<link rel=\"shortcut icon\" href=\"favicon.ico\" />\\r\\n</head>\\r\\n<script type=\"text/javascript\" src=\"/xin.js\"></script>\\r\\n<body>\\r\\n<div class=\"index_top\">\\r\\n<form method=\"post\" autocomplete=\"off\" id=\"lsform\" name=\"lsform\" action=\"/login.shtml\">\\r\\n<input type=\"hidden\" name=\"cookietime\" id=\"ls_cookietime\" class=\"pc\" value=\"0\" tabindex=\"903\" />\\r\\n<input type=\"hidden\" name=\"quickforward\" value=\"yes\" />\\r\\n<input type=\"hidden\" name=\"handlekey\" value=\"ls\" />\\r\\n\\t<table class=\"index_top_con margin_auto\">\\r\\n    \\t<tr>\\r\\n        \\t<td width=\"72px;\">USER<br /> LOGIN</td>\\r\\n            <td width=\"260px\">用户名：<input type=\"text\" name=\"username\" id=\"username\" value=\"\" /></td>\\r\\n           \\r\\n            <td width=\"240px\">密码：<input type=\"password\" name=\"userpass\" id=\"userpass\" value=\"\" onkeypress=\"keyEnter(\\'lsform\\');\"/></td>\\r\\n        \\t<td class=\"login\"><a href=\"#\" class=\"deng\" onclick=\"document.lsform.submit();\">登 录</a></td>\\r\\n            <td width=\"105px\"><a href=\"/hy_register.shtml\">新用户注册</a></td>\\r\\n            <td width=\"296px\"><a href=\"/forgotpw.shtml\">忘记密码？</a></td>\\r\\n            <td width=\"100px\"><a href=\"#\" onclick=\"SetHomepage(\\'http://www.xinfadi.com.cn/\\'); return false;\">设为首页</a></td>\\r\\n            <td width=\"93px;\"><a href=\"#\" onclick=\"addBookmark(\\'http://www.xinfadi.com.cn/\\',\\'北京新发地市场\\'); return false;\">加入收藏</a></td>\\r\\n        </tr>\\r\\n    </table>\\r\\n</form>\\r\\n</div>\\r\\n<!--以上是顶部内容-->\\r\\n\\r\\n<div class=\"index_all margin_auto\">\\r\\n    <div class=\"index_banner margin_auto\">\\r\\n<div class=\"logo\" style=\"margin-right:1px;\"><a href=\"http://www.xinfadi.com.cn\"><img src=\"/files/indexpics/pics/201307/16/1373970416101.gif\" width=\"294\" height=\"77\" /></a></div>\\t\\r\\n<div class=\"logo\" style=\"padding-left:0px;\"><a href=\"#\" target=\"_blank\"><img src=\"/files/indexpics/pics/201501/02/1420163685101.jpg\" width=\"710\" height=\"92\" /></a></div>\\t\\r\\n      <div class=\"clear\"></div>\\r\\n    </div>\\r\\n<!--logo内容-->\\r\\n\\r\\n<div class=\"box1\">\\r\\n\\t<div class=\"time\">\\r\\n    \\t<ul>\\r\\n        \\t<li>2021年7月16日</li>\\r\\n            <li>农历</li>\\r\\n            <li><iframe  src=\"http://i.tianqi.com/index.php?c=code&id=1&icon=1&wind=0&num=1\" width=\"138\" height=\"25\" marginwidth=\"0\" marginheight=\"0\" hspace=\"0\" vspace=\"0\" frameborder=\"0\" scrolling=\"no\"></iframe></li>\\r\\n        <div class=\"clear\"></div>\\r\\n        </ul>\\r\\n    </div>\\r\\n    \\r\\n\\t<div class=\"search\">\\r\\n\\t\\t<form  autocomplete=\"off\" name=\"searchform\" id=\"searchform\" method=\"get\" action=\"/search.shtml\">\\r\\n\\t\\t\\t<input class=\"kuang\" style=\"line-height:22px;\" onfocus=\"cleartext(this);\" onblur=\"cleartext(this)\" type=\"text\" name=\"searchalltxt\" id=\"searchalltxt\" value=\"请输入您要搜索的内容\" onkeypress=\"keyenter(\\'searchform\\');\"/>\\r\\n\\t\\t\\t<select class=\"selecttype\" name=\"selectTypeid\" id=\"selectTypeid\">\\r\\n\\t\\t\\t\\t<option value=\"51\" >商户信息</option>\\r\\n\\t\\t\\t\\t<option value=\"96\" >基地信息</option>\\r\\n\\t\\t\\t\\t<option value=\"2121\" >供应信息</option>\\r\\n\\t\\t\\t\\t<option value=\"2122\" >求购信息</option>\\t\\t\\t\\t\\r\\n\\t\\t\\t</select>\\r\\n\\t\\t\\t<a href=\"javascript:;\" class=\"sou\" onclick=\"search_index();\" ></a>\\r\\n\\t\\t\\t<div class=\"clear\"></div>\\r\\n\\t\\t</form>\\t\\r\\n    </div>\\r\\n<div class=\"clear\"></div>\\r\\n</div>\\r\\n<!--box1内容-->\\r\\n\\r\\n<div class=\"nav\">\\r\\n\\t<div class=\"nav_1\">\\r\\n    \\t<ul>\\r\\n        \\t<li class=\"biao\"><a href=\"/company/reports.shtml\" target=\"_blank\">走进市场:</a></li>\\r\\n            <li><a href=\"/company/cintros.shtml\" target=\"_blank\">简介 </a> <span class=\"shu\">|&nbsp;</span></li>\\r\\n            <li><a href=\"/company/leaders.shtml\" target=\"_blank\">领导 </a> <span class=\"shu\">|&nbsp;</span></li>\\r\\n            <li><a href=\"/company/projects.shtml\" target=\"_blank\">项目 </a> <span class=\"shu\">|&nbsp;</span></li>\\r\\n            <li><a href=\"/news/companynews/list.shtml\" target=\"_blank\">要闻  </a></li>\\r\\n        \\r\\n        <div class=\"clear\"></div>\\r\\n        </ul>\\r\\n        \\r\\n    <ul>\\r\\n        \\t<li class=\"biao\">市场商户:</li>\\r\\n            <li><a href=\"/saler/list/900/1.shtml\" target=\"_blank\">专营 </a> <span class=\"shu\">|&nbsp;</span></li>\\r\\n            <li><a href=\"/saler/list/10148/1.shtml\" target=\"_blank\">配送 </a> <span class=\"shu\">|&nbsp;</span></li>\\r\\n            <li><a href=\"/saler/list/10149/1.shtml\" target=\"_blank\">礼品 </a> <span class=\"shu\">|&nbsp;</span></li>\\r\\n            <li><a href=\"/newbases/base/index.shtml\" target=\"_blank\">基地  </a></li>\\r\\n        \\r\\n        <div class=\"clear\"></div>\\r\\n        </ul>\\r\\n    </div>\\r\\n\\r\\n\\r\\n<div class=\" nav_1\">\\r\\n    \\t<ul>\\r\\n        \\t<li class=\"biao\">行情信息:</li>\\r\\n            <li><a href=\"/marketanalysis/0/list/1.shtml\" target=\"_blank\">价格 </a> <span class=\"shu\">|&nbsp;</span></li>\\r\\n            <li><a href=\"/business/supplyinfos.shtml\" target=\"_blank\">供求 </a> <span class=\"shu\">|&nbsp;</span></li>\\r\\n            <li><a href=\"/news/marketanalysis/list.shtml\" target=\"_blank\">分析  </a> <span class=\"shu\">|&nbsp;</span></li>\\r\\n            <li><a href=\"/static/jiaoyizhongxin.php\" target=\"_blank\">交易 </a></li>\\r\\n        \\r\\n        <div class=\"clear\"></div>\\r\\n        </ul>\\r\\n        \\r\\n    <ul>\\r\\n        \\t<li class=\"biao\">行业动态:</li>\\r\\n            <li><a href=\"/news/policylaws/list.shtml\" target=\"_blank\">政策  </a> <span class=\"shu\">|&nbsp;</span></li>\\r\\n            <li><a href=\"/news/policylaws/list.shtml\" target=\"_blank\">法规  </a> <span class=\"shu\">|&nbsp;</span></li>\\r\\n            <li><a href=\"/news/foodsafety/list.shtml\" target=\"_blank\">安全  </a> <span class=\"shu\">|&nbsp;</span></li>\\r\\n            <li><a href=\"#\">会议  </a></li>\\r\\n        \\r\\n        <div class=\"clear\"></div>\\r\\n        </ul>\\r\\n    </div>\\r\\n    \\r\\n    <div class=\"nav_1\">\\r\\n    \\t<ul>\\r\\n        \\t<li class=\"biao\">市场服务:</li>\\r\\n            <li><a href=\"/markets/adviseprom/index.shtml\" target=\"_blank\">广告  </a> <span class=\"shu\">|&nbsp;</span></li>\\r\\n            <li><a href=\"/markets/vacantdisp/index.shtml\" target=\"_blank\">空配  </a> <span class=\"shu\">|&nbsp;</span></li>\\r\\n            <li><a href=\"/markets/financeserv/index.shtml\" target=\"_blank\">金融  </a> <span class=\"shu\">|&nbsp;</span></li>\\r\\n            <li><a href=\"/markets/exhibitserv/index.shtml\" target=\"_blank\">会展  </a></li>\\r\\n        \\r\\n        <div class=\"clear\"></div>\\r\\n        </ul>\\r\\n        \\r\\n    <ul>\\r\\n        \\t<li class=\"biao\">产销对接:</li>\\r\\n            <li><a href=\"#\">农批  </a> <span class=\"shu\">|&nbsp;</span></li>\\r\\n            <li><a href=\"/markets/connschool/index.shtml\" target=\"_blank\">农校  </a> <span class=\"shu\">|&nbsp;</span></li>\\r\\n            <li><a href=\"/markets/connrest/index.shtml\" target=\"_blank\">农餐  </a> <span class=\"shu\">|&nbsp;</span></li>\\r\\n            <li><a href=\"/markets/connsuperm/index.shtml\" target=\"_blank\">农超  </a></li>\\r\\n        \\r\\n        <div class=\"clear\"></div>\\r\\n        </ul>\\r\\n    </div>\\r\\n\\r\\n\\r\\n<div class=\" nav_2 nav_1\">\\r\\n    \\t<ul>\\r\\n        \\t<li class=\"biao\">生活服务:</li>\\r\\n            <li><a href=\"/company/services/cmeals.shtml\" target=\"_blank\">餐饮  </a> <span class=\"shu\">|&nbsp;</span></li>\\r\\n            <li><a href=\"/company/services/chotels.shtml\" target=\"_blank\">住宿  </a> <span class=\"shu\">|&nbsp;</span></li>\\r\\n            <li><a href=\"#\">网批  </a> <span class=\"shu\">|&nbsp;</span></li>\\r\\n            <li><a href=\"#\">订票  </a></li>\\r\\n        \\r\\n        <div class=\"clear\"></div>\\r\\n        </ul>\\r\\n        \\r\\n    <ul>\\r\\n        \\t<li class=\"biao\">市场风采:</li>\\r\\n            <li><a href=\"#\">活动  </a> <span class=\"shu\">|&nbsp;</span></li>\\r\\n            <li><a href=\"#\">论坛  </a> <span class=\"shu\">|&nbsp;</span></li>\\r\\n            <li><a href=\"/photos/view/39.shtml\" target=\"_blank\">摄影  </a> <span class=\"shu\">|&nbsp;</span></li>\\r\\n            <li><a href=\"/collects/impressstory/list.shtml\" target=\"_blank\">美文  </a></li>\\r\\n        \\r\\n        <div class=\"clear\"></div>\\r\\n        </ul>\\r\\n    </div>\\r\\n</div>\\r\\n\\r\\n<!--以上是nav部分内容-->\\r\\n<div class=\"hangqing\">\\r\\n\\t<div class=\"hangq_left\">\\r\\n\\t\\t<!--<img src=\"/files/banner/guanggao1.jpg\" width=\"750\" height=\"100\" style=\"margin-bottom:15px;\"/>-->\\r\\n    \\t<div class=\"hq_left_1\">\\r\\n\\t\\t\\t<ul>\\r\\n            \\t<li class=\"firsts\"><a href=\"/marketanalysis/0/list/1.shtml\">每日价格行情</a></li>\\r\\n                <li><a href=\"/marketanalysis/1/list/1.shtml\" >蔬菜</a></li>\\r\\n                <li><a href=\"/marketanalysis/2/list/1.shtml\" >水果</a></li>\\r\\n                <li><a href=\"/marketanalysis/3/list/1.shtml\" >肉禽蛋</a></li>\\r\\n                <li><a href=\"/marketanalysis/4/list/1.shtml\" >水产</a></li>\\r\\n                <li><a href=\"/marketanalysis/5/list/1.shtml\" >粮油</a></li>\\r\\n            <div class=\"clear\"></div>\\r\\n            </ul>\\t\\r\\n        </div>\\r\\n    \\r\\n    <table class=\"hq_table\">\\r\\n    \\t<tr class=\"tr_1\">\\r\\n        \\t<td width=\"90\" class=\"td_1\">品名</td>\\r\\n            <td width=\"90\">最低价</td>\\r\\n            <td width=\"90\">平均价</td>\\r\\n            <td width=\"90\">最高价</td>\\r\\n            <td width=\"90\">规格</td>\\r\\n            <td width=\"80\">单位</td>\\r\\n            <td width=\"90\">发布日期</td>\\r\\n            <td width=\"10\">&nbsp;</td>\\r\\n        </tr>\\r\\n<tr class=\"tr_color\"><td style=\"text-align:left;padding-left:5px;\">大葱</td><td>0.70</td><td>0.80</td><td>0.90</td><td>冀\\\\鲁</td><td>斤</td><td>2021-07-15</td><td></td></tr><tr><td style=\"text-align:left;padding-left:5px;\">小葱</td><td>1.50</td><td>1.75</td><td>2.00</td><td>普通</td><td>斤</td><td>2021-07-15</td><td></td></tr><tr class=\"tr_color\"><td style=\"text-align:left;padding-left:5px;\">蒜苗</td><td>2.00</td><td>3.50</td><td>5.00</td><td>苏鲁</td><td>斤</td><td>2021-07-15</td><td></td></tr><tr><td style=\"text-align:left;padding-left:5px;\">蒜黄</td><td>6.00</td><td>6.50</td><td>7.00</td><td>\\\\冀</td><td>斤</td><td>2021-07-15</td><td></td></tr><tr class=\"tr_color\"><td style=\"text-align:left;padding-left:5px;\">青蒜</td><td>1.40</td><td>1.60</td><td>1.80</td><td>冀</td><td>斤</td><td>2021-07-15</td><td></td></tr><tr><td style=\"text-align:left;padding-left:5px;\">平菇</td><td>2.00</td><td>2.50</td><td>3.00</td><td>\\\\小叶</td><td>斤</td><td>2021-07-15</td><td></td></tr><tr class=\"tr_color\"><td style=\"text-align:left;padding-left:5px;\">香菇</td><td>4.00</td><td>4.50</td><td>5.00</td><td>普通</td><td>斤</td><td>2021-07-15</td><td></td></tr><tr><td style=\"text-align:left;padding-left:5px;\">白玉菇</td><td>3.00</td><td>3.50</td><td>4.00</td><td>普通</td><td>斤</td><td>2021-07-15</td><td></td></tr><tr class=\"tr_color\"><td style=\"text-align:left;padding-left:5px;\">口蘑</td><td>9.00</td><td>9.50</td><td>10.00</td><td>普通</td><td>斤</td><td>2021-07-15</td><td></td></tr><tr><td style=\"text-align:left;padding-left:5px;\">杏鲍菇</td><td>2.00</td><td>2.50</td><td>3.00</td><td>普通</td><td>斤</td><td>2021-07-15</td><td></td></tr><tr class=\"tr_color\"><td style=\"text-align:left;padding-left:5px;\">金针菇</td><td>1.50</td><td>2.00</td><td>2.50</td><td>普通</td><td>斤</td><td>2021-07-15</td><td></td></tr><tr><td style=\"text-align:left;padding-left:5px;\">大白菜</td><td>0.40</td><td>0.45</td><td>0.50</td><td>\\\\新</td><td>斤</td><td>2021-07-15</td><td></td></tr><tr class=\"tr_color\"><td style=\"text-align:left;padding-left:5px;\">娃娃菜</td><td>0.50</td><td>0.60</td><td>0.70</td><td>大\\\\冀新</td><td>斤</td><td>2021-07-15</td><td></td></tr><tr><td style=\"text-align:left;padding-left:5px;\">小白菜</td><td>1.80</td><td>1.90</td><td>2.00</td><td>普通</td><td>斤</td><td>2021-07-15</td><td></td></tr><tr class=\"tr_color\"><td style=\"text-align:left;padding-left:5px;\">芹菜</td><td>1.00</td><td>1.20</td><td>1.40</td><td>\\\\冀</td><td>斤</td><td>2021-07-15</td><td></td></tr><tr><td style=\"text-align:left;padding-left:5px;\">西芹</td><td>1.80</td><td>2.00</td><td>2.20</td><td>普通</td><td>斤</td><td>2021-07-15</td><td></td></tr><tr class=\"tr_color\"><td style=\"text-align:left;padding-left:5px;\">菠菜</td><td>2.00</td><td>2.25</td><td>2.50</td><td>冀\\\\蒙</td><td>斤</td><td>2021-07-15</td><td></td></tr><tr><td style=\"text-align:left;padding-left:5px;\">莴笋</td><td>0.60</td><td>0.80</td><td>1.00</td><td>普通</td><td>斤</td><td>2021-07-15</td><td></td></tr><tr class=\"tr_color\"><td style=\"text-align:left;padding-left:5px;\">团生菜</td><td>1.20</td><td>1.50</td><td>1.80</td><td>毛|净</td><td>斤</td><td>2021-07-15</td><td></td></tr><tr><td style=\"text-align:left;padding-left:5px;\">圆白菜</td><td>0.50</td><td>0.65</td><td>0.80</td><td>\\\\冀</td><td>斤</td><td>2021-07-15</td><td></td></tr>\\t\\t\\r\\n    </table>\\r\\n\\t<div style=\"text-align:right;padding:10px 0px 0px 10px;color:red;font-size:12px;\">温馨提示：本网站公布价格仅供参考，如您对本市场公布价格有异议请联系线上客服，QQ：8035129。</div>\\r\\n<br/><em>共有 <em style=\"color:red;font-weight:bold;\">339242</em> 条</em><br/><br/><div class=\"manu\"><span class=\"disabled\"> 首页 </span>&nbsp;<span class=\"disabled\"> 上一页 </span>&nbsp;<span class=\"current\">1</span>&nbsp;<a href=\"/marketanalysis/0/list/2.shtml\">2</a>&nbsp;<a href=\"/marketanalysis/0/list/3.shtml\">3</a>&nbsp;<a href=\"/marketanalysis/0/list/4.shtml\">4</a>&nbsp;<a href=\"/marketanalysis/0/list/5.shtml\">5</a>&nbsp;<a href=\"/marketanalysis/0/list/6.shtml\">6</a>&nbsp;...<a href=\"/marketanalysis/0/list/2.shtml\" title=\"下一页\"> 下一页 </a>&nbsp;<a href=\"/marketanalysis/0/list/16963.shtml\" title=\"尾页\"> 尾页 </a></div>\\t\\r\\n    </div><!--hangq_left-->\\r\\n<div class=\"hangq_right\">\\r\\n\\t<div class=\"hangq_right_1\">\\r\\n    \\t<h3 class=\"lan_1\"><a href=\"#\">价格搜索</a></h3>\\r\\n\\t\\t<form method=\"get\" name=\"formprice\" action=\"/marketanalysis/0/list/1.shtml\">\\r\\n    \\t<ul>\\r\\n        \\t<li>品&nbsp;&nbsp;&nbsp;&nbsp;名：<input type=\"text\" name=\"prodname\"  size=\"15\" value=\"\"/></li>\\r\\n            <li>起止日期：<input type=\"text\" name=\"begintime\" readonly  id=\"begintime\" onclick=\"new Calendar(2000, 2036).show(this);\"  maxlength=\"10\" size=\"15\" value=\"\">\\t\\r\\n\\t\\t\\t</li>\\r\\n\\t\\t\\t<li>截止日期：<input type=\"text\" name=\"endtime\" readonly  id=\"endtime\" onclick=\"new Calendar(2000, 2036).show(this);\"  maxlength=\"10\" size=\"15\"  value=\"\">\\t\\r\\n\\t\\t\\t</li>\\r\\n        \\t<li class=\"sousuo\"><a href=\"javascript:return false;\" onclick=\"document.formprice.submit();\">搜索</a></li>\\r\\n        </ul>\\r\\n\\t\\t</form>\\r\\n    </div>\\r\\n\\t<!--<div style=\"margin-top:5px;width:210px;height:126px;overflow:hidden;\">\\r\\n\\t\\t<a href=\"/news/companynews/view/223873.shtml\" target=\"_blank\"><img width=\"210\" src=\"/images/zyps.jpg\" /></a>\\r\\n\\t</div>-->\\t\\r\\n<script src=\"/ijs/calendar.js\" type=\"text/javascript\"></script>\\t\\r\\n    <div class=\"hangq_right_3\" style=\"margin-top:5px;\">\\r\\n    \\t<h3 class=\"lan_1\"><a href=\"#\">新发地市场行情分析</a></h3>\\r\\n        <div class=\"sc_tu\">\\r\\n    \\t<ul>\\r\\n<li style=\"overflow:hidden\"><a href=\"/news/marketanalysis/view/1479806.shtml\" target=\"_blank\"><span class=\"six\"></span>每周市场动态（2021.6.26-2021.7.2）</a></li><li style=\"overflow:hidden\"><a href=\"/news/marketanalysis/view/1479790.shtml\" target=\"_blank\"><span class=\"six\"></span>每周市场动态（2021.6.19-2021.6.25）</a></li><li style=\"overflow:hidden\"><a href=\"/news/marketanalysis/view/1479787.shtml\" target=\"_blank\"><span class=\"six\"></span>每周市场动态（2021.6.12-2021.6.18）</a></li><li style=\"overflow:hidden\"><a href=\"/news/marketanalysis/view/1479786.shtml\" target=\"_blank\"><span class=\"six\"></span>每周市场动态（2021.6.5-2021.6.11）</a></li><li style=\"overflow:hidden\"><a href=\"/news/marketanalysis/view/1479785.shtml\" target=\"_blank\"><span class=\"six\"></span>每周市场动态（2021.5.30-2021.6.4）</a></li><li style=\"overflow:hidden\"><a href=\"/news/marketanalysis/view/1479784.shtml\" target=\"_blank\"><span class=\"six\"></span>2021年5月份猪肉价格走势分析</a></li><li style=\"overflow:hidden\"><a href=\"/news/marketanalysis/view/1479783.shtml\" target=\"_blank\"><span class=\"six\"></span>2021年5月份鸡蛋价格走势分析</a></li><li style=\"overflow:hidden\"><a href=\"/news/marketanalysis/view/1479782.shtml\" target=\"_blank\"><span class=\"six\"></span>每周市场动态（2021.5.22-2021.5.29）</a></li><li style=\"overflow:hidden\"><a href=\"/news/marketanalysis/view/1479758.shtml\" target=\"_blank\"><span class=\"six\"></span>每周市场动态（2021.5.15-2021.5.21）</a></li><li style=\"overflow:hidden\"><a href=\"/news/marketanalysis/view/1479754.shtml\" target=\"_blank\"><span class=\"six\"></span>每周市场动态（2021.5.8-2021.5.14）</a></li>        </ul>\\r\\n    </div>\\r\\n    </div><!--hangq_right_3-->\\r\\n\\t<div style=\"margin-top:5px;width:210px;height:126px;overflow:hidden;\">\\r\\n\\t\\t<a href=\"http://jgsb.agri.gov.cn/controller?SERVICE_ID=REGISTRY_JCSJ_MRHQ_SHOW_SERVICE&recordperpage=15&newsearch=true&login_result_sign=nologin\" target=\"_blank\" title=\"全国农产品批发价格行情\"><img width=\"210\" src=\"/images/jghq.jpg\" /></a>\\t\\r\\n\\t</div>\\r\\n</div>\\r\\n<div class=\"clear\"></div>\\r\\n</div><!--hangqing-->\\r\\n</div></div>\\r\\n<div class=\"foot\">\\r\\n\\t<p class=\"beian\"><span style=\"font-family:arial;\">Copyright &copy;2010-2013 www.xinfadi.com.cn </span>All Rights Reserved<br />xfdxxhgl@163.com  北京新发地农产品股份有限公司 新发地农产品交易网 版权所有<br />\\r\\n 京ICP备案06000290号 北京市丰台区新发地东一门北侧办公楼&nbsp;&nbsp;<script src=\"http://s23.cnzz.com/stat.php?id=5463821&web_id=5463821&show=pic\" language=\"JavaScript\"></script></p>\\r\\n</div><!--foot-->\\r\\n\\r\\n</body>\\r\\n</html>\\r\\n'"
      ]
     },
     "execution_count": 16,
     "metadata": {},
     "output_type": "execute_result"
    }
   ],
   "source": []
  },
  {
   "cell_type": "markdown",
   "id": "d17152cd",
   "metadata": {},
   "source": [
    "1. 把源代码交给bs，生成bs对象"
   ]
  },
  {
   "cell_type": "code",
   "execution_count": 18,
   "id": "79954843",
   "metadata": {},
   "outputs": [],
   "source": []
  },
  {
   "cell_type": "markdown",
   "id": "af058a24",
   "metadata": {},
   "source": [
    "2. 从bs对象中查找数据\n",
    "\n",
    "find (标签，属性=值)\n",
    "\n",
    "find_all (标签，属性=值)"
   ]
  },
  {
   "cell_type": "code",
   "execution_count": 24,
   "id": "efb46d59",
   "metadata": {},
   "outputs": [
    {
     "name": "stdout",
     "output_type": "stream",
     "text": [
      "<table class=\"hq_table\">\n",
      "<tr class=\"tr_1\">\n",
      "<td class=\"td_1\" width=\"90\">品名</td>\n",
      "<td width=\"90\">最低价</td>\n",
      "<td width=\"90\">平均价</td>\n",
      "<td width=\"90\">最高价</td>\n",
      "<td width=\"90\">规格</td>\n",
      "<td width=\"80\">单位</td>\n",
      "<td width=\"90\">发布日期</td>\n",
      "<td width=\"10\"> </td>\n",
      "</tr>\n",
      "<tr class=\"tr_color\"><td style=\"text-align:left;padding-left:5px;\">大葱</td><td>0.70</td><td>0.80</td><td>0.90</td><td>冀\\鲁</td><td>斤</td><td>2021-07-15</td><td></td></tr><tr><td style=\"text-align:left;padding-left:5px;\">小葱</td><td>1.50</td><td>1.75</td><td>2.00</td><td>普通</td><td>斤</td><td>2021-07-15</td><td></td></tr><tr class=\"tr_color\"><td style=\"text-align:left;padding-left:5px;\">蒜苗</td><td>2.00</td><td>3.50</td><td>5.00</td><td>苏鲁</td><td>斤</td><td>2021-07-15</td><td></td></tr><tr><td style=\"text-align:left;padding-left:5px;\">蒜黄</td><td>6.00</td><td>6.50</td><td>7.00</td><td>\\冀</td><td>斤</td><td>2021-07-15</td><td></td></tr><tr class=\"tr_color\"><td style=\"text-align:left;padding-left:5px;\">青蒜</td><td>1.40</td><td>1.60</td><td>1.80</td><td>冀</td><td>斤</td><td>2021-07-15</td><td></td></tr><tr><td style=\"text-align:left;padding-left:5px;\">平菇</td><td>2.00</td><td>2.50</td><td>3.00</td><td>\\小叶</td><td>斤</td><td>2021-07-15</td><td></td></tr><tr class=\"tr_color\"><td style=\"text-align:left;padding-left:5px;\">香菇</td><td>4.00</td><td>4.50</td><td>5.00</td><td>普通</td><td>斤</td><td>2021-07-15</td><td></td></tr><tr><td style=\"text-align:left;padding-left:5px;\">白玉菇</td><td>3.00</td><td>3.50</td><td>4.00</td><td>普通</td><td>斤</td><td>2021-07-15</td><td></td></tr><tr class=\"tr_color\"><td style=\"text-align:left;padding-left:5px;\">口蘑</td><td>9.00</td><td>9.50</td><td>10.00</td><td>普通</td><td>斤</td><td>2021-07-15</td><td></td></tr><tr><td style=\"text-align:left;padding-left:5px;\">杏鲍菇</td><td>2.00</td><td>2.50</td><td>3.00</td><td>普通</td><td>斤</td><td>2021-07-15</td><td></td></tr><tr class=\"tr_color\"><td style=\"text-align:left;padding-left:5px;\">金针菇</td><td>1.50</td><td>2.00</td><td>2.50</td><td>普通</td><td>斤</td><td>2021-07-15</td><td></td></tr><tr><td style=\"text-align:left;padding-left:5px;\">大白菜</td><td>0.40</td><td>0.45</td><td>0.50</td><td>\\新</td><td>斤</td><td>2021-07-15</td><td></td></tr><tr class=\"tr_color\"><td style=\"text-align:left;padding-left:5px;\">娃娃菜</td><td>0.50</td><td>0.60</td><td>0.70</td><td>大\\冀新</td><td>斤</td><td>2021-07-15</td><td></td></tr><tr><td style=\"text-align:left;padding-left:5px;\">小白菜</td><td>1.80</td><td>1.90</td><td>2.00</td><td>普通</td><td>斤</td><td>2021-07-15</td><td></td></tr><tr class=\"tr_color\"><td style=\"text-align:left;padding-left:5px;\">芹菜</td><td>1.00</td><td>1.20</td><td>1.40</td><td>\\冀</td><td>斤</td><td>2021-07-15</td><td></td></tr><tr><td style=\"text-align:left;padding-left:5px;\">西芹</td><td>1.80</td><td>2.00</td><td>2.20</td><td>普通</td><td>斤</td><td>2021-07-15</td><td></td></tr><tr class=\"tr_color\"><td style=\"text-align:left;padding-left:5px;\">菠菜</td><td>2.00</td><td>2.25</td><td>2.50</td><td>冀\\蒙</td><td>斤</td><td>2021-07-15</td><td></td></tr><tr><td style=\"text-align:left;padding-left:5px;\">莴笋</td><td>0.60</td><td>0.80</td><td>1.00</td><td>普通</td><td>斤</td><td>2021-07-15</td><td></td></tr><tr class=\"tr_color\"><td style=\"text-align:left;padding-left:5px;\">团生菜</td><td>1.20</td><td>1.50</td><td>1.80</td><td>毛|净</td><td>斤</td><td>2021-07-15</td><td></td></tr><tr><td style=\"text-align:left;padding-left:5px;\">圆白菜</td><td>0.50</td><td>0.65</td><td>0.80</td><td>\\冀</td><td>斤</td><td>2021-07-15</td><td></td></tr>\n",
      "</table>\n"
     ]
    }
   ],
   "source": []
  },
  {
   "cell_type": "code",
   "execution_count": 35,
   "id": "80157a96",
   "metadata": {},
   "outputs": [
    {
     "ename": "TypeError",
     "evalue": "writerow() takes exactly one argument (7 given)",
     "output_type": "error",
     "traceback": [
      "\u001b[1;31m---------------------------------------------------------------------------\u001b[0m",
      "\u001b[1;31mTypeError\u001b[0m                                 Traceback (most recent call last)",
      "\u001b[1;32m~\\LOCALS~1\\Temp/ipykernel_11260/2965078448.py\u001b[0m in \u001b[0;36m<module>\u001b[1;34m\u001b[0m\n\u001b[0;32m     12\u001b[0m     \u001b[0munit\u001b[0m \u001b[1;33m=\u001b[0m \u001b[0mtds\u001b[0m\u001b[1;33m[\u001b[0m\u001b[1;36m5\u001b[0m\u001b[1;33m]\u001b[0m\u001b[1;33m.\u001b[0m\u001b[0mtext\u001b[0m\u001b[1;33m\u001b[0m\u001b[1;33m\u001b[0m\u001b[0m\n\u001b[0;32m     13\u001b[0m     \u001b[0mdate\u001b[0m \u001b[1;33m=\u001b[0m \u001b[0mtds\u001b[0m\u001b[1;33m[\u001b[0m\u001b[1;36m6\u001b[0m\u001b[1;33m]\u001b[0m\u001b[1;33m.\u001b[0m\u001b[0mtext\u001b[0m\u001b[1;33m\u001b[0m\u001b[1;33m\u001b[0m\u001b[0m\n\u001b[1;32m---> 14\u001b[1;33m     \u001b[0mfw\u001b[0m\u001b[1;33m.\u001b[0m\u001b[0mwriterow\u001b[0m\u001b[1;33m(\u001b[0m\u001b[0mname\u001b[0m\u001b[1;33m,\u001b[0m\u001b[0mlow_price\u001b[0m\u001b[1;33m,\u001b[0m\u001b[0mavg_price\u001b[0m\u001b[1;33m,\u001b[0m\u001b[0mhigh_price\u001b[0m\u001b[1;33m,\u001b[0m\u001b[0msp\u001b[0m\u001b[1;33m,\u001b[0m\u001b[0munit\u001b[0m\u001b[1;33m,\u001b[0m\u001b[0mdate\u001b[0m\u001b[1;33m)\u001b[0m\u001b[1;33m\u001b[0m\u001b[1;33m\u001b[0m\u001b[0m\n\u001b[0m\u001b[0;32m     15\u001b[0m \u001b[1;33m\u001b[0m\u001b[0m\n",
      "\u001b[1;31mTypeError\u001b[0m: writerow() takes exactly one argument (7 given)"
     ]
    }
   ],
   "source": [
    "\n",
    "    "
   ]
  },
  {
   "cell_type": "code",
   "execution_count": null,
   "id": "376252cb",
   "metadata": {},
   "outputs": [],
   "source": []
  }
 ],
 "metadata": {
  "kernelspec": {
   "display_name": "Python 3 (ipykernel)",
   "language": "python",
   "name": "python3"
  },
  "language_info": {
   "codemirror_mode": {
    "name": "ipython",
    "version": 3
   },
   "file_extension": ".py",
   "mimetype": "text/x-python",
   "name": "python",
   "nbconvert_exporter": "python",
   "pygments_lexer": "ipython3",
   "version": "3.8.5"
  }
 },
 "nbformat": 4,
 "nbformat_minor": 5
}
