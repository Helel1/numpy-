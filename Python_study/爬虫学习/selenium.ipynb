{
 "cells": [
  {
   "cell_type": "markdown",
   "id": "f9160e4a",
   "metadata": {},
   "source": [
    "# selenium"
   ]
  },
  {
   "cell_type": "markdown",
   "id": "7935a299",
   "metadata": {},
   "source": [
    "能不能让我的程序连接到浏览器，让浏览器完成各种复杂的操作，我们只接受数据？"
   ]
  },
  {
   "cell_type": "markdown",
   "id": "24b3248f",
   "metadata": {},
   "source": [
    "selenium: 自动化测试工具\n",
    "可以打开浏览器，然后像人一样去操作浏览器\n",
    "我们可以直接从selenium中提取各种信息。"
   ]
  },
  {
   "cell_type": "markdown",
   "id": "baef5095",
   "metadata": {},
   "source": [
    "## selenium环境安装"
   ]
  },
  {
   "cell_type": "markdown",
   "id": "7c20c9f8",
   "metadata": {},
   "source": [
    "### pip安装selenium模块\n",
    "pip install selenium\n",
    "### 安装浏览器驱动\n",
    "https://developer.microsoft.com/en-us/microsoft-edge/tools/webdriver/\n",
    "### 把解压的浏览器驱动文件放在python解释器所在的文件夹\n"
   ]
  },
  {
   "cell_type": "code",
   "execution_count": 1,
   "id": "813c3d4f",
   "metadata": {},
   "outputs": [
    {
     "data": {
      "text/plain": [
       "['H:\\\\Jupter\\\\Numpy_study\\\\Python_study\\\\爬虫学习',\n",
       " 'd:\\\\miniconda\\\\python38.zip',\n",
       " 'd:\\\\miniconda\\\\DLLs',\n",
       " 'd:\\\\miniconda\\\\lib',\n",
       " 'd:\\\\miniconda',\n",
       " '',\n",
       " 'd:\\\\miniconda\\\\lib\\\\site-packages',\n",
       " 'd:\\\\miniconda\\\\lib\\\\site-packages\\\\win32',\n",
       " 'd:\\\\miniconda\\\\lib\\\\site-packages\\\\win32\\\\lib',\n",
       " 'd:\\\\miniconda\\\\lib\\\\site-packages\\\\Pythonwin',\n",
       " 'd:\\\\miniconda\\\\lib\\\\site-packages\\\\IPython\\\\extensions',\n",
       " 'C:\\\\Users\\\\周志鑫\\\\.ipython']"
      ]
     },
     "execution_count": 1,
     "metadata": {},
     "output_type": "execute_result"
    }
   ],
   "source": [
    "import sys\n",
    "sys.path"
   ]
  },
  {
   "cell_type": "markdown",
   "id": "824cbb01",
   "metadata": {},
   "source": [
    "### 测试： 让selenium启动浏览器"
   ]
  },
  {
   "cell_type": "markdown",
   "id": "e10574f9",
   "metadata": {},
   "source": [
    "#### 导入webdrvier模块"
   ]
  },
  {
   "cell_type": "code",
   "execution_count": 7,
   "id": "b3d9086b",
   "metadata": {},
   "outputs": [],
   "source": [
    "from selenium import webdriver\n",
    "import time\n",
    "from selenium.webdriver.chrome.options import Options\n",
    "\n",
    "chrome_options = webdriver.ChromeOptions()\n",
    "\n",
    "chrome_options.add_argument('--no-sandbox')\n",
    "chrome_options.add_argument('--disable-gpu')\n",
    "chrome_options.add_argument('--disable-dev-shm-usage')\n",
    "\n",
    "\n",
    "web1 = webdriver.Chrome(options=chrome_options)\n",
    "\n",
    "web1.get(\"http://www.lagou.com\")\n",
    "time.sleep(10)\n",
    "web1.close()"
   ]
  },
  {
   "cell_type": "code",
   "execution_count": null,
   "id": "66fcac44",
   "metadata": {},
   "outputs": [],
   "source": [
    "el = web1.find_element_by_xpath()"
   ]
  },
  {
   "cell_type": "code",
   "execution_count": null,
   "id": "1ab8cc3c",
   "metadata": {},
   "outputs": [],
   "source": []
  }
 ],
 "metadata": {
  "kernelspec": {
   "display_name": "Python 3 (ipykernel)",
   "language": "python",
   "name": "python3"
  },
  "language_info": {
   "codemirror_mode": {
    "name": "ipython",
    "version": 3
   },
   "file_extension": ".py",
   "mimetype": "text/x-python",
   "name": "python",
   "nbconvert_exporter": "python",
   "pygments_lexer": "ipython3",
   "version": "3.8.5"
  }
 },
 "nbformat": 4,
 "nbformat_minor": 5
}
