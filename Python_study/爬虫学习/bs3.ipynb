{
 "cells": [
  {
   "cell_type": "markdown",
   "id": "12864fd6",
   "metadata": {},
   "source": [
    "### bs4解析\n",
    "1. 拿到页面源代码\n",
    "2. 使用bs4解析"
   ]
  },
  {
   "cell_type": "markdown",
   "id": "afb3c23b",
   "metadata": {},
   "source": [
    "## bs4新发地菜价"
   ]
  },
  {
   "cell_type": "code",
   "execution_count": 6,
   "id": "4ccf069a",
   "metadata": {},
   "outputs": [
    {
     "name": "stdout",
     "output_type": "stream",
     "text": [
      "None\n",
      "None\n",
      "None\n",
      "None\n",
      "None\n",
      "None\n",
      "None\n",
      "None\n",
      "None\n",
      "None\n"
     ]
    }
   ],
   "source": [
    "from bs4 import BeautifulSoup as bs\n",
    "import requests\n",
    "import csv\n",
    "def get_caijia(num):\n",
    "    url = f\"http://www.xinfadi.com.cn/marketanalysis/0/list/{num}.shtml\"\n",
    "\n",
    "    resp = requests.get(url)\n",
    "    resp.text\n",
    "\n",
    "    page = bs(resp.text, \"html.parser\")\n",
    "\n",
    "    table = page.find(\"table\",attrs={\"class\":\"hq_table\"})\n",
    "    print(table)\n",
    "\n",
    "#     trs = table.find_all(\"tr\")[1:]\n",
    "#     f = open('data2.csv',mode='a+',encoding='utf-8')\n",
    "#     fw = csv.writer(f)\n",
    "\n",
    "#     for tr in trs:\n",
    "#         tds = tr.find_all(\"td\")  # 可以对find之后的进行find_all\n",
    "#     #     print(tds)\n",
    "#         name = tds[0].text  # .text 取标签标记的内容\n",
    "#         low_price = tds[1].text\n",
    "#         avg_price = tds[2].text \n",
    "#         high_price = tds[3].text \n",
    "#         sp = tds[4].text \n",
    "#         unit = tds[5].text \n",
    "#         date = tds[6].text \n",
    "#         fw.writerow([name,low_price,avg_price,high_price,sp,unit,date])  # 只能写一个数据\n",
    "#     f.close()\n",
    "    resp.close()\n",
    "\n",
    "if __name__ == \"__main__\":\n",
    "    for num in range(1,11):\n",
    "        get_caijia(num)\n",
    "        "
   ]
  },
  {
   "cell_type": "markdown",
   "id": "01ad30c4",
   "metadata": {},
   "source": [
    "### bs3解析案例，抓取优美图库的图片\n",
    "1. 拿到主页源代码，提取子页面链接，href\n",
    "2. 在子页面里找到图片下载地址   img src="
   ]
  },
  {
   "cell_type": "code",
   "execution_count": 12,
   "id": "8c91ac0b",
   "metadata": {},
   "outputs": [],
   "source": [
    "with open(\"index.html\", mode='w') as f:\n",
    "    f.write(resp.text) "
   ]
  },
  {
   "cell_type": "code",
   "execution_count": 15,
   "id": "0e14da76",
   "metadata": {},
   "outputs": [],
   "source": [
    "def get_html(url,filename):\n",
    "    resp = requests.get(url)\n",
    "    with open(filename, mode='w') as f:\n",
    "        f.write(resp.text) \n",
    "    resp.close()\n",
    "    print('over')"
   ]
  },
  {
   "cell_type": "code",
   "execution_count": 16,
   "id": "66f1b422",
   "metadata": {},
   "outputs": [
    {
     "name": "stdout",
     "output_type": "stream",
     "text": [
      "over\n"
     ]
    }
   ],
   "source": [
    "index_url = \"https://www.youmeitu.com/weimeitupian/\"\n",
    "filename = 'weimei_index.html'\n",
    "get_html(index_url,filename)"
   ]
  },
  {
   "cell_type": "markdown",
   "id": "70fd5582",
   "metadata": {},
   "source": [
    "#### 通过.get('href')获取属性的值"
   ]
  },
  {
   "cell_type": "code",
   "execution_count": 38,
   "id": "9ac630d7",
   "metadata": {
    "scrolled": true
   },
   "outputs": [],
   "source": [
    "import time \n",
    "def weimei_imgload(filename):  # 这里的文件名指的是要解析的html文件\n",
    "    index = bs(open(filename),'html.parser')\n",
    "    img_links = index.find(\"div\",attrs={\"class\":\"TypeList\"}).find_all(\"img\")\n",
    "    \n",
    "    # 获取名字\n",
    "    get_names = index.find_all(\"span\")\n",
    "    names = []\n",
    "    for name in get_names:\n",
    "        names.append(f\"{name.text}.jpg\")\n",
    "\n",
    "   # 获取链接\n",
    "    load_links = []\n",
    "    for img_link in img_links:\n",
    "        load_links.append(img_link.get('src'))\n",
    "        \n",
    "    # 下载图片\n",
    "    for link,name in zip(load_links,names):\n",
    "        try:\n",
    "            img_resp = requests.get(f\"https://www.youmeitu.com{link}\")\n",
    "            with open(\"H:/Jupter/Python_study/weimei/\"+name, mode='wb') as f:\n",
    "                f.write(img_resp.content) # 将图片内容写入文件\n",
    "            print('over!')\n",
    "            time.sleep(10)\n",
    "            img_resp.close()\n",
    "        except:\n",
    "            continue"
   ]
  },
  {
   "cell_type": "code",
   "execution_count": 9,
   "id": "1b71067c",
   "metadata": {},
   "outputs": [
    {
     "data": {
      "text/plain": [
       "'<!DOCTYPE html>\\r\\n<html lang=\"en\">\\r\\n\\r\\n<head>\\r\\n    <meta charset=\"utf-8\">\\r\\n    <meta name=\"viewport\"\\r\\n          content=\"width=device-width, initial-scale=1.0, maximum-scale=1.0\">\\r\\n    <title></title>\\r\\n    <meta name=\"keywords\" content=\"\">\\r\\n    <meta name=\"description\" content=\"\">\\r\\n    <link href=\"/css/bootstrap.min.css\" rel=\"stylesheet\">\\r\\n    <link href=\"/css/font-awesome.css?v=4.4.0\" rel=\"stylesheet\">\\r\\n    <link href=\"/css/animate.css\" rel=\"stylesheet\">\\r\\n    <link href=\"/css/style.css\" rel=\"stylesheet\">\\r\\n    <link href=\"/css/login.css\" rel=\"stylesheet\">\\r\\n    <!--[if lt IE 9]>\\r\\n    <meta http-equiv=\"refresh\" content=\"0;ie.html\"/>\\r\\n    <![endif]-->\\r\\n    <script>\\r\\n        if (window.top !== window.self) {\\r\\n            window.top.location = window.location;\\r\\n        }\\r\\n    </script>\\r\\n\\r\\n</head>\\r\\n\\r\\n<body class=\"signin\">\\r\\n<div class=\"signinpanel\">\\r\\n    <div class=\"row\">\\r\\n        <div class=\"col-sm-7\">\\r\\n            <div class=\"signin-info\">\\r\\n                <div class=\"logopanel m-b\">\\r\\n                    <h1>新发地官网管理系统</h1>\\r\\n                </div>\\r\\n                <div class=\"m-b\">欢迎使用新发地官网管理系统</div>\\r\\n                <h3>\\r\\n                    <strong></strong>\\r\\n                </h3>\\r\\n                <ul class=\"m-b\">\\r\\n                 \\r\\n                </ul>\\r\\n            </div>\\r\\n        </div>\\r\\n        <div class=\"col-sm-5\">\\r\\n            <form id=\"signupForm\">\\r\\n                <h3 class=\"text-center\"></h3>\\r\\n              \\r\\n                <p class=\"m-t-md text-center\">\\r\\n                \\r\\n                <input type=\"text\" name=\"username\" class=\"form-control uname\"\\r\\n                       value=\"\"/>\\r\\n                <input type=\"password\" name=\"password\"\\r\\n                       class=\"form-control pword m-b\" value=\"\"/>\\r\\n                 <!--<input type=\"text\" name=\"username\" class=\"form-control uname\"-->\\r\\n                       <!--value=\"admin\"/>-->\\r\\n                <!--<input type=\"password\" name=\"password\"-->\\r\\n                       <!--class=\"form-control pword m-b\" value=\"kingdee!2020\"/>-->\\r\\n                <a id=\"login\" class=\"btn btn-login btn-block\">登录</a>\\r\\n                </p>\\r\\n            </form>\\r\\n\\r\\n        </div>\\r\\n    </div>\\r\\n   \\r\\n\\t\\t\\t\\t\\r\\n    <div class=\"signup-footer\">\\r\\n        <div class=\"pull-left\">&copy; 2020 All Rights Reserved.  \\r\\n        </div>\\r\\n    </div>\\r\\n</div>\\r\\n<script> var ctx = \"\\\\/\" ; </script>\\r\\n<!-- 全局js -->\\r\\n<script src=\"/js/jquery.min.js?v=2.1.4\"></script>\\r\\n<script src=\"/js/bootstrap.min.js?v=3.3.6\"></script>\\r\\n\\r\\n<!-- 自定义js -->\\r\\n<script src=\"/js/content.js?v=1.0.0\"></script>\\r\\n\\r\\n<!-- jQuery Validation plugin javascript-->\\r\\n<script src=\"/js/ajax-util.js\"></script>\\r\\n<script src=\"/js/plugins/validate/jquery.validate.min.js\"></script>\\r\\n<script src=\"/js/plugins/validate/messages_zh.min.js\"></script>\\r\\n<script src=\"/js/plugins/layer/layer.min.js\"></script>\\r\\n<script type=\"text/javascript\">\\r\\n    $(document).ready(function () {\\r\\n        $(\"#login\").on(\\'click\\',function(){$(\"#signupForm\").submit();});\\r\\n        validateRule();\\r\\n    });\\r\\n\\r\\n    $.validator.setDefaults({\\r\\n        submitHandler: function () {\\r\\n            login();\\r\\n        }\\r\\n    });\\r\\n\\r\\n    function login() {\\r\\n        $.ajax({\\r\\n            type: \"POST\",\\r\\n            url: ctx+\"ajaxLogin\",\\r\\n            data: $(\\'#signupForm\\').serialize(),\\r\\n            success: function (r) {\\r\\n                 if (r.code == 0) {\\r\\n                    var index = layer.load(1, {\\r\\n                        shade: [0.1,\\'#fff\\'] //0.1透明度的白色背景\\r\\n                    });\\r\\n                    parent.location.href = \\'/manage\\';\\r\\n                } else {\\r\\n                    layer.msg(r.msg);\\r\\n                }\\r\\n            },\\r\\n        });\\r\\n    }\\r\\n\\r\\n    function validateRule() {\\r\\n        var icon = \"<i class=\\'fa fa-times-circle\\'></i> \";\\r\\n        $(\"#signupForm\").validate({\\r\\n            rules: {\\r\\n                username: {\\r\\n                    required: true\\r\\n                },\\r\\n                password: {\\r\\n                    required: true\\r\\n                }\\r\\n            },\\r\\n            messages: {\\r\\n                username: {\\r\\n                    required: icon + \"请输入您的用户名\",\\r\\n                },\\r\\n                password: {\\r\\n                    required: icon + \"请输入您的密码\",\\r\\n                }\\r\\n            }\\r\\n        })\\r\\n    }\\r\\n</script>\\r\\n</body>\\r\\n</html>\\r\\n'"
      ]
     },
     "execution_count": 9,
     "metadata": {},
     "output_type": "execute_result"
    }
   ],
   "source": []
  },
  {
   "cell_type": "code",
   "execution_count": null,
   "id": "eb692dca",
   "metadata": {},
   "outputs": [],
   "source": []
  }
 ],
 "metadata": {
  "kernelspec": {
   "display_name": "Python 3 (ipykernel)",
   "language": "python",
   "name": "python3"
  },
  "language_info": {
   "codemirror_mode": {
    "name": "ipython",
    "version": 3
   },
   "file_extension": ".py",
   "mimetype": "text/x-python",
   "name": "python",
   "nbconvert_exporter": "python",
   "pygments_lexer": "ipython3",
   "version": "3.8.5"
  }
 },
 "nbformat": 4,
 "nbformat_minor": 5
}
