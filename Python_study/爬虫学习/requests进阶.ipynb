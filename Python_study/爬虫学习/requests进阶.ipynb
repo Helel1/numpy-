{
 "cells": [
  {
   "cell_type": "markdown",
   "id": "c9cd7059",
   "metadata": {},
   "source": [
    "# requests进阶"
   ]
  },
  {
   "cell_type": "code",
   "execution_count": 1,
   "id": "1dec01ea",
   "metadata": {},
   "outputs": [],
   "source": [
    "import requests\n",
    "\n",
    "session = requests.session()\n"
   ]
  },
  {
   "cell_type": "markdown",
   "id": "bbdee022",
   "metadata": {},
   "source": [
    "## 登录\n"
   ]
  },
  {
   "cell_type": "code",
   "execution_count": 5,
   "id": "f725da6d",
   "metadata": {},
   "outputs": [
    {
     "data": {
      "text/plain": [
       "<RequestsCookieJar[Cookie(version=0, name='accessToken', value='avatarUrl%3Dhttps%253A%252F%252Fcdn.static.17k.com%252Fuser%252Favatar%252F06%252F46%252F31%252F78243146.jpg-88x88%253Fv%253D1626688717000%26id%3D78243146%26nickname%3Dhelel1%26e%3D1642241592%26s%3D57240be846f959ff', port=None, port_specified=False, domain='.17k.com', domain_specified=True, domain_initial_dot=False, path='/', path_specified=True, secure=False, expires=1642241592, discard=False, comment=None, comment_url=None, rest={}, rfc2109=False), Cookie(version=0, name='c_channel', value='0', port=None, port_specified=False, domain='.17k.com', domain_specified=True, domain_initial_dot=False, path='/', path_specified=True, secure=False, expires=1642241592, discard=False, comment=None, comment_url=None, rest={}, rfc2109=False), Cookie(version=0, name='c_csc', value='web', port=None, port_specified=False, domain='.17k.com', domain_specified=True, domain_initial_dot=False, path='/', path_specified=True, secure=False, expires=1642241592, discard=False, comment=None, comment_url=None, rest={}, rfc2109=False)]>"
      ]
     },
     "execution_count": 5,
     "metadata": {},
     "output_type": "execute_result"
    }
   ],
   "source": [
    "url = \"https://passport.17k.com/ck/user/login\"\n",
    "date={\n",
    "    'loginName': '15675376291',\n",
    "    'password': 'cyzzx0889139639'\n",
    "}\n",
    "resp = session.post(url,data=date)\n"
   ]
  },
  {
   "cell_type": "markdown",
   "id": "86e84e79",
   "metadata": {},
   "source": [
    "## 拿书架上的数据"
   ]
  },
  {
   "cell_type": "code",
   "execution_count": 7,
   "id": "008c2cdb",
   "metadata": {},
   "outputs": [
    {
     "data": {
      "text/plain": [
       "{'status': {'code': 0, 'msg': 'succ'},\n",
       " 'data': [{'bookId': 3328785,\n",
       "   'bookName': '长生',\n",
       "   'coverImg': 'https://cdn.static.17k.com/book/189x272/85/87/3328785.jpg-189x272?v=1625066380000',\n",
       "   'authorId': 16439338,\n",
       "   'authorPenName': '风御九秋',\n",
       "   'introduction': '国之将亡，必有乱世妖孽，国之将亡，必有济世真人......',\n",
       "   'bookClass': {'id': 2, 'name': '男生'},\n",
       "   'bookChannel': {'id': 24, 'name': '仙侠武侠'},\n",
       "   'bookCategory': {'id': 9, 'name': '古典仙侠'},\n",
       "   'authLevel': {'id': 4, 'name': 'VIP作品'},\n",
       "   'progress': 0,\n",
       "   'lastUpdateChapter': {'id': 44331326,\n",
       "    'name': '第二十三章 打劫驿站',\n",
       "    'createTime': 1626623271000,\n",
       "    'updateTime': 1626625194000,\n",
       "    'isVIP': {'id': 0, 'name': '否'},\n",
       "    'publishTime': 1626623271000},\n",
       "   'status': {'id': 4, 'name': '正常'},\n",
       "   'bookStatus': {'id': 1, 'name': '连载'},\n",
       "   'isVIP': {'id': 0, 'name': '否'},\n",
       "   'bookmarkChapterId': 44289320,\n",
       "   'bookmarkChapterName': '第十七章 五粒药丸',\n",
       "   'bookmarkChapterVipFlag': 0,\n",
       "   'topFlag': 0,\n",
       "   'createTimeValue': 1626688717000,\n",
       "   'updateTimeValue': 1626688888000,\n",
       "   'topTimeValue': 0,\n",
       "   'bookupdateTimeValue': 1626625194000,\n",
       "   'type': 5},\n",
       "  {'bookId': 3006464,\n",
       "   'bookName': '万古第一神',\n",
       "   'coverImg': 'https://cdn.static.17k.com/book/189x272/64/64/3006464.jpg-189x272?v=1620280427000',\n",
       "   'authorId': 4638758,\n",
       "   'authorPenName': '风青阳',\n",
       "   'introduction': '李天命做梦都要笑醒了。他家的宠物，竟然都是传说中的太古混沌巨兽！\\n他的家鸡，是以太阳为食的‘永恒炼狱凤凰’。\\n他的黑猫，是以雷霆炼化万界的‘太初混沌雷魔’。\\n连他家的小强，都是拥有万亿不死分身的‘万界永生兽’……\\n从此，他驾驭十头太古混沌巨兽，化身万古第一混沌神灵，周游诸天万界，踏平无尽神域。万物生灵，诸天神魔，连爬带滚，哀呼颤抖！\\n',\n",
       "   'bookClass': {'id': 2, 'name': '男生'},\n",
       "   'bookChannel': {'id': 21, 'name': '玄幻奇幻'},\n",
       "   'bookCategory': {'id': 8, 'name': '东方玄幻'},\n",
       "   'authLevel': {'id': 4, 'name': 'VIP作品'},\n",
       "   'progress': 0,\n",
       "   'lastUpdateChapter': {'id': 44330525,\n",
       "    'name': '第2484章 再现炎黄神族',\n",
       "    'createTime': 1626619241000,\n",
       "    'updateTime': 1626626902000,\n",
       "    'isVIP': {'id': 1, 'name': '是'},\n",
       "    'publishTime': 1626624304000},\n",
       "   'status': {'id': 4, 'name': '正常'},\n",
       "   'bookStatus': {'id': 1, 'name': '连载'},\n",
       "   'isVIP': {'id': 1, 'name': '是'},\n",
       "   'bookmarkChapterId': 0,\n",
       "   'bookmarkChapterName': '',\n",
       "   'bookmarkChapterVipFlag': 0,\n",
       "   'topFlag': 0,\n",
       "   'createTimeValue': 1626688781000,\n",
       "   'updateTimeValue': 1626688781000,\n",
       "   'topTimeValue': 0,\n",
       "   'bookupdateTimeValue': 1626626902000,\n",
       "   'type': 5},\n",
       "  {'bookId': 3222462,\n",
       "   'bookName': '穿到三千小世界里当炮灰',\n",
       "   'coverImg': 'https://cdn.static.17k.com/book/189x272/62/24/3222462.jpg-189x272?v=1600827772000',\n",
       "   'authorId': 75291810,\n",
       "   'authorPenName': '时初四',\n",
       "   'introduction': '世上总有那么一些人，总是被天道偏爱，万中无一，金手指满满。\\n\\n\\u3000\\u3000直到他们遇到苏千寻。\\n\\n\\u3000\\u3000溺爱，懂？\\n\\n\\u3000\\u3000*\\n\\n\\u3000\\u3000苏千寻作为天道亲闺女，什么都缺，就是不缺运道。\\n\\n\\u3000\\u3000因太难管教，总是胡乱改写大千世界，被天道一气之下丢到三千小世界中将功补过，还附带一个一天到晚只会嘤嘤嘤的小系统。\\n\\n\\u3000\\u3000第一个世界：娱乐圈潜规则男团导师——她觉得还能补救一下\\n\\n\\u3000\\u3000第二个世界：穷逼的玄学大佬——我要是说我真不会玄学你们信不信\\n\\n\\u3000\\u3000第三个世界：大佬的心头娇——我年纪轻轻的就想发财\\n\\n\\u3000\\u3000第四个世界：不好好拍戏就要回家继承遗产的小透明——天凉了，她家什么时候才能破产\\n\\n\\u3000\\u3000第五个世界：被顶替的高考状元\\n\\n\\u3000\\u3000其他世界待定。\\n\\n\\u3000\\u3000真·锦鲤·欧皇·苏千寻，舒爽的人生不需要解释。',\n",
       "   'bookClass': {'id': 3, 'name': '女生'},\n",
       "   'bookChannel': {'id': 18, 'name': '幻想言情'},\n",
       "   'bookCategory': {'id': 172, 'name': '异能空间'},\n",
       "   'authLevel': {'id': 4, 'name': 'VIP作品'},\n",
       "   'progress': 0,\n",
       "   'lastUpdateChapter': {'id': 42291581,\n",
       "    'name': '第333章 大结局：丧尸能吃吗',\n",
       "    'createTime': 1612285279000,\n",
       "    'updateTime': 1612287639000,\n",
       "    'isVIP': {'id': 1, 'name': '是'},\n",
       "    'publishTime': 1612285409000},\n",
       "   'status': {'id': 4, 'name': '正常'},\n",
       "   'bookStatus': {'id': 1, 'name': '连载'},\n",
       "   'isVIP': {'id': 1, 'name': '是'},\n",
       "   'bookmarkChapterId': 0,\n",
       "   'bookmarkChapterName': '',\n",
       "   'bookmarkChapterVipFlag': 0,\n",
       "   'topFlag': 0,\n",
       "   'createTimeValue': 1626688717000,\n",
       "   'updateTimeValue': 1626688718000,\n",
       "   'topTimeValue': 0,\n",
       "   'bookupdateTimeValue': 1614753428000,\n",
       "   'type': 5}],\n",
       " 'num': 20,\n",
       " 'curPage': 1,\n",
       " 'totalNum': 3,\n",
       " 'totalPage': 1,\n",
       " 'hasMore': 0,\n",
       " 'time': 1626690121000}"
      ]
     },
     "execution_count": 7,
     "metadata": {},
     "output_type": "execute_result"
    }
   ],
   "source": [
    "resp1 = session.get(\"https://user.17k.com/ck/author/shelf?page=1&appKey=2406394919\")\n",
    "resp1.json()"
   ]
  },
  {
   "cell_type": "markdown",
   "id": "78911712",
   "metadata": {},
   "source": [
    "## 梨视频\n",
    "https://video.pearvideo.com/mp4/adshort/20210719/1626691520925-15722398_adpkg-ad_hd.mp4 -> \n",
    "\n",
    "https://video.pearvideo.com/mp4/adshort/20210719/cont-1735592-15722398_adpkg-ad_hd.mp4\n",
    "\n",
    "\n",
    "1626691520925 -> cont-1735592 # 新闻标签"
   ]
  },
  {
   "cell_type": "markdown",
   "id": "a15d94e9",
   "metadata": {},
   "source": [
    "1. 拿到contid\n",
    "2. 拿到videostatus返回的json -> srcURL\n",
    "3. srcURL里面的内容进行修整\n",
    "4. 下载视频"
   ]
  },
  {
   "cell_type": "code",
   "execution_count": 25,
   "id": "273ed8e0",
   "metadata": {},
   "outputs": [],
   "source": [
    "url = \"https://www.pearvideo.com/video_1735592\"\n",
    "contid = url.split('_')[1]\n",
    "\n",
    "videoStatusurl = f\"https://www.pearvideo.com/videoStatus.jsp?contId={contid}&mrd=0.60707752296235\"\n",
    "\n",
    "headers = {\n",
    "   \"User-Agent\":\"Mozilla/5.0 (Windows NT 10.0; Win64; x64) AppleWebKit/537.36 (KHTML, like Gecko) Chrome/91.0.4472.124 Safari/537.36 Edg/91.0.864.70\",\n",
    "   \"Referer\":url,\n",
    "}\n",
    "resp = requests.get(videoStatusurl,headers=headers)\n",
    "\n",
    "srcUrl = resp.json()[\"videoInfo\"][\"videos\"][\"srcUrl\"]\n",
    "systemTime = resp.json()[\"systemTime\"]\n",
    "srcUrl = srcUrl.replace(systemTime,\"cont-\"+contid)\n",
    "# print(srcUrl)\n",
    "with open('lishipin.mp4', mode='wb') as f:\n",
    "    f.write(requests.get(srcUrl).content)"
   ]
  },
  {
   "cell_type": "markdown",
   "id": "3ab418c3",
   "metadata": {},
   "source": [
    "防盗链Referer：找上家"
   ]
  }
 ],
 "metadata": {
  "kernelspec": {
   "display_name": "Python 3 (ipykernel)",
   "language": "python",
   "name": "python3"
  },
  "language_info": {
   "codemirror_mode": {
    "name": "ipython",
    "version": 3
   },
   "file_extension": ".py",
   "mimetype": "text/x-python",
   "name": "python",
   "nbconvert_exporter": "python",
   "pygments_lexer": "ipython3",
   "version": "3.8.5"
  }
 },
 "nbformat": 4,
 "nbformat_minor": 5
}
