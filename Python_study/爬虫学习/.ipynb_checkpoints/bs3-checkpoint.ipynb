{
 "cells": [
  {
   "cell_type": "markdown",
   "id": "12864fd6",
   "metadata": {},
   "source": [
    "### bs4解析\n",
    "1. 拿到页面源代码\n",
    "2. 使用bs4解析"
   ]
  },
  {
   "cell_type": "code",
   "execution_count": 2,
   "id": "4ccf069a",
   "metadata": {},
   "outputs": [],
   "source": [
    "from bs4 import BeautifulSoup as bs\n",
    "import requests\n",
    "import csv\n",
    "def get_caijia(num):\n",
    "    url = f\"http://www.xinfadi.com.cn/marketanalysis/0/list/{num}.shtml\"\n",
    "\n",
    "    resp = requests.get(url)\n",
    "    resp.text\n",
    "\n",
    "    page = bs(resp.text, \"html.parser\")\n",
    "\n",
    "    table = page.find(\"table\",attrs={\"class\":\"hq_table\"})\n",
    "\n",
    "    trs = table.find_all(\"tr\")[1:]\n",
    "    f = open('data1.csv',mode='a+',encoding='utf-8')\n",
    "    fw = csv.writer(f)\n",
    "\n",
    "    for tr in trs:\n",
    "        tds = tr.find_all(\"td\")  # 可以对find之后的进行find_all\n",
    "    #     print(tds)\n",
    "        name = tds[0].text  # .text 取标签标记的内容\n",
    "        low_price = tds[1].text\n",
    "        avg_price = tds[2].text \n",
    "        high_price = tds[3].text \n",
    "        sp = tds[4].text \n",
    "        unit = tds[5].text \n",
    "        date = tds[6].text \n",
    "        fw.writerow([name,low_price,avg_price,high_price,sp,unit,date])  # 只能写一个数据\n",
    "    f.close()\n",
    "    resp.close()\n",
    "\n",
    "if __name__ == \"__main__\":\n",
    "    for num in range(1,11):\n",
    "        get_caijia(num)"
   ]
  },
  {
   "cell_type": "markdown",
   "id": "01ad30c4",
   "metadata": {},
   "source": [
    "### bs3解析案例，抓取优美图库的图片\n",
    "1. 拿到主页源代码，提取子页面链接，href\n",
    "2. 在子页面里找到图片下载地址   img src="
   ]
  },
  {
   "cell_type": "code",
   "execution_count": 12,
   "id": "8c91ac0b",
   "metadata": {},
   "outputs": [],
   "source": [
    "with open(\"index.html\", mode='w') as f:\n",
    "    f.write(resp.text) "
   ]
  },
  {
   "cell_type": "code",
   "execution_count": 15,
   "id": "0e14da76",
   "metadata": {},
   "outputs": [],
   "source": [
    "def get_html(url,filename):\n",
    "    resp = requests.get(url)\n",
    "    with open(filename, mode='w') as f:\n",
    "        f.write(resp.text) \n",
    "    resp.close()\n",
    "    print('over')"
   ]
  },
  {
   "cell_type": "code",
   "execution_count": 16,
   "id": "66f1b422",
   "metadata": {},
   "outputs": [
    {
     "name": "stdout",
     "output_type": "stream",
     "text": [
      "over\n"
     ]
    }
   ],
   "source": [
    "index_url = \"https://www.youmeitu.com/weimeitupian/\"\n",
    "filename = 'weimei_index.html'\n",
    "get_html(index_url,filename)"
   ]
  },
  {
   "cell_type": "markdown",
   "id": "70fd5582",
   "metadata": {},
   "source": [
    "#### 通过.get('href')获取属性的值"
   ]
  },
  {
   "cell_type": "code",
   "execution_count": 38,
   "id": "9ac630d7",
   "metadata": {
    "scrolled": true
   },
   "outputs": [],
   "source": [
    "import time \n",
    "def weimei_imgload(filename):  # 这里的文件名指的是要解析的html文件\n",
    "    index = bs(open(filename),'html.parser')\n",
    "    img_links = index.find(\"div\",attrs={\"class\":\"TypeList\"}).find_all(\"img\")\n",
    "    \n",
    "    # 获取名字\n",
    "    get_names = index.find_all(\"span\")\n",
    "    names = []\n",
    "    for name in get_names:\n",
    "        names.append(f\"{name.text}.jpg\")\n",
    "\n",
    "    # 获取链接\n",
    "    load_links = []\n",
    "    for img_link in img_links:\n",
    "        load_links.append(img_link.get('src'))\n",
    "        \n",
    "    # 下载图片\n",
    "    for link,name in zip(load_links,names):\n",
    "        try:\n",
    "            img_resp = requests.get(f\"https://www.youmeitu.com{link}\")\n",
    "            with open(\"H:/Jupter/Python_study/weimei/\"+name,mode='wb') as f:\n",
    "                f.write(img_resp.content) # 将图片内容写入文件\n",
    "            print('over!')\n",
    "            time.sleep(10)\n",
    "            img_resp.close()\n",
    "        except:\n",
    "            continue"
   ]
  },
  {
   "cell_type": "code",
   "execution_count": null,
   "id": "1b71067c",
   "metadata": {},
   "outputs": [],
   "source": []
  }
 ],
 "metadata": {
  "kernelspec": {
   "display_name": "Python 3 (ipykernel)",
   "language": "python",
   "name": "python3"
  },
  "language_info": {
   "codemirror_mode": {
    "name": "ipython",
    "version": 3
   },
   "file_extension": ".py",
   "mimetype": "text/x-python",
   "name": "python",
   "nbconvert_exporter": "python",
   "pygments_lexer": "ipython3",
   "version": "3.8.5"
  }
 },
 "nbformat": 4,
 "nbformat_minor": 5
}
