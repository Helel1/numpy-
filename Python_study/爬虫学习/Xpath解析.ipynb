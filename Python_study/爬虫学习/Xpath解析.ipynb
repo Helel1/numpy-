{
 "cells": [
  {
   "cell_type": "markdown",
   "id": "0e78d3f7",
   "metadata": {},
   "source": [
    "# Xpath解析"
   ]
  },
  {
   "cell_type": "markdown",
   "id": "14a76731",
   "metadata": {},
   "source": [
    "xpath是在XML文档中搜索内容的一门语言\n",
    "html是xml的一个子集"
   ]
  },
  {
   "cell_type": "markdown",
   "id": "a0828e32",
   "metadata": {},
   "source": [
    "## 安装lxml"
   ]
  },
  {
   "cell_type": "code",
   "execution_count": 3,
   "id": "1f3ae0ec",
   "metadata": {},
   "outputs": [],
   "source": [
    "import lxml\n",
    "from lxml import etree"
   ]
  },
  {
   "cell_type": "code",
   "execution_count": 59,
   "id": "2afce83a",
   "metadata": {},
   "outputs": [],
   "source": [
    "xml = \"\"\"<body class=\"NavBox fc hd\">\n",
    "\n",
    "                <ul class=\"Nav\" id=\"Nav\">\n",
    "                         <li class=\"NavLi\"><a href=\"/wenzitupian/\" title=\"文字图片\" class=\"MainNav\">文字图片</a></li>\n",
    "\n",
    "                        <li class=\"NavLi\"><a href=\"/meinv/\" title=\"美女图片\" class=\"MainNav\">美女图片</a></li>\n",
    "\n",
    "                        <li class=\"NavLi\"><a href=\"/tags/\" title=\"美女图片\" class=\"MainNav\">标签大全</a></li>\n",
    "                <span>\n",
    "                    <li class=\"NavLi\" id=\"Home\"><a href=\"/\" class=\"MainNav\">首页</a></li>\n",
    "\n",
    "                    <li class=\"NavLi\"><a href=\"/weimeitupian/\" title=\"唯美图片\" class=\"MainNav\">唯美图片</a></li>\n",
    "\n",
    "                    <li class=\"NavLi\"><a href=\"/gaoxiaotupian/\" title=\"搞笑图片\" class=\"MainNav\">搞笑图片</a></li>\n",
    "                </span>\n",
    "                    <div>\n",
    "                        <li class=\"NavLi\"><a href=\"/beijingtupian/\" title=\"背景图片\" class=\"MainNav\">背景图片</a></li>\n",
    "\n",
    "                        <li class=\"NavLi\"><a href=\"/jingwutupian/\" title=\"静物图片\" class=\"MainNav\">静物图片</a></li>\n",
    "\n",
    "                        <li class=\"NavLi\"><a href=\"/dongmantupian/\" title=\"动漫图片\" class=\"MainNav\">动漫图片</a></li>\n",
    "\n",
    "                        <li class=\"NavLi\"><a href=\"/yinghuatupian/\" title=\"樱花图片\" class=\"MainNav\">樱花图片</a></li>\n",
    "                    </div>\n",
    "\n",
    "\n",
    "                </ul>\n",
    "\n",
    "</body>\"\"\"\n",
    "  \n"
   ]
  },
  {
   "cell_type": "code",
   "execution_count": 76,
   "id": "63a5abf5",
   "metadata": {},
   "outputs": [
    {
     "name": "stdout",
     "output_type": "stream",
     "text": [
      "[<Element body at 0x1c20a73bd40>]\n"
     ]
    }
   ],
   "source": [
    "tree = etree.XML(xml)\n",
    "result = tree.xpath(\"/body\")\n",
    "print(result)\n"
   ]
  },
  {
   "cell_type": "code",
   "execution_count": 75,
   "id": "3ae2f264",
   "metadata": {},
   "outputs": [
    {
     "name": "stdout",
     "output_type": "stream",
     "text": [
      "['文字图片']\n"
     ]
    }
   ],
   "source": [
    "result1 = tree.xpath(\"/body/ul/li[1]/a/text()\")  # text（）取文本\n",
    "print(result1)"
   ]
  },
  {
   "cell_type": "code",
   "execution_count": 62,
   "id": "93774e47",
   "metadata": {},
   "outputs": [
    {
     "name": "stdout",
     "output_type": "stream",
     "text": [
      "['文字图片', '美女图片', '标签大全', '首页', '唯美图片', '搞笑图片', '背景图片', '静物图片', '动漫图片', '樱花图片']\n"
     ]
    }
   ],
   "source": [
    "result2 = tree.xpath(\"/body/ul//a/text()\") # // 所有后代\n",
    "print(result2)"
   ]
  },
  {
   "cell_type": "code",
   "execution_count": 65,
   "id": "ddd879cf",
   "metadata": {},
   "outputs": [
    {
     "name": "stdout",
     "output_type": "stream",
     "text": [
      "['首页', '唯美图片', '搞笑图片', '背景图片', '静物图片', '动漫图片', '樱花图片']\n"
     ]
    }
   ],
   "source": [
    "result3 = tree.xpath(\"/body/ul/*/li/a/text()\") # * 通配符\n",
    "print(result3)"
   ]
  },
  {
   "cell_type": "code",
   "execution_count": 79,
   "id": "bdf20aa1",
   "metadata": {},
   "outputs": [
    {
     "data": {
      "text/plain": [
       "['文字图片', '美女图片', '标签大全', '首页', '唯美图片', '搞笑图片', '背景图片', '静物图片', '动漫图片', '樱花图片']"
      ]
     },
     "execution_count": 79,
     "metadata": {},
     "output_type": "execute_result"
    }
   ],
   "source": [
    "tree.xpath(\"/body//a/text()\")"
   ]
  },
  {
   "cell_type": "code",
   "execution_count": 86,
   "id": "556e1339",
   "metadata": {},
   "outputs": [
    {
     "name": "stdout",
     "output_type": "stream",
     "text": [
      "['美女图片']\n"
     ]
    }
   ],
   "source": [
    "result4 = tree.xpath(\"/body/ul/li/a[@href='/meinv/']/text()\")  # [@xxx=xxx]属性筛选\n",
    "print(result4)"
   ]
  },
  {
   "cell_type": "code",
   "execution_count": 90,
   "id": "23217bfe",
   "metadata": {},
   "outputs": [
    {
     "name": "stdout",
     "output_type": "stream",
     "text": [
      "['/wenzitupian/']\n",
      "['/meinv/']\n",
      "['/tags/']\n"
     ]
    }
   ],
   "source": [
    "ul_li_list = tree.xpath(\"/body/ul/li\")  #\n",
    "for li in ul_li_list:\n",
    "    a_text = li.xpath(\"./a/text()\")\n",
    "    href_text = li.xpath(\"./a/@href\") # 取属性的值\n",
    "    print(href_text)"
   ]
  },
  {
   "cell_type": "markdown",
   "id": "c196e310",
   "metadata": {},
   "source": [
    "# 猪八戒网 ，先获取html代码 "
   ]
  },
  {
   "cell_type": "code",
   "execution_count": 97,
   "id": "32e0d3bc",
   "metadata": {},
   "outputs": [],
   "source": [
    "import requests\n",
    "\n",
    "url = \"https://changsha.zbj.com/search/f/?type=new&kw=saas\"\n",
    "resp = requests.get(url)\n",
    "\n",
    "html = etree.HTML(resp.text)\n",
    "\n"
   ]
  },
  {
   "cell_type": "code",
   "execution_count": 148,
   "id": "b0f7d9b7",
   "metadata": {
    "scrolled": true
   },
   "outputs": [
    {
     "name": "stdout",
     "output_type": "stream",
     "text": [
      "100\n",
      "推牛网络科技\n",
      "['长沙']\n",
      "软件/saas>软件服务>软件运营服务上海公司企业网站代运营\n",
      "5000\n",
      "名锐讯动-500强合作商\n",
      "['长沙']\n",
      "企业管理系统办公软件OA仓库管理ERP系统saas系统开发\n",
      "800\n",
      "轻妙视觉\n",
      "['长沙']\n",
      "软件UI设计界面页面saas管理OA系统后台应用平台\n",
      "3500\n",
      "轻妙视觉\n",
      "['长沙']\n",
      "大屏可视化大数据软件UI页面设计界面监控监测应用桌面\n",
      "50\n",
      "钜鼎网络-中关村高新技术企业\n",
      "['长沙']\n",
      "电商系统开发 PHP接口开发 后端开发 脚本开发\n",
      "3000\n",
      "奔斧科技\n",
      "['长沙']\n",
      "北京软件开发|OA saas ERP CRM 功能开发|系统\n",
      "38000\n",
      "小为信息-您的1对1技术服务合作伙伴\n",
      "['长沙']\n",
      "软件开发进存销软件saas系统CRM管理系统OA系统会员管理\n",
      "2500\n",
      "荣鹊科技\n",
      "['长沙']\n",
      "开发工具企业管理行业应用嵌入式区块链应用saas成品设计网站\n",
      "600\n",
      "钜鼎网络-中关村高新技术企业\n",
      "['长沙']\n",
      "微信小程序商城带分销系统成品saas软件 包安装支持二次开发\n",
      "380\n",
      "千红视觉\n",
      "['长沙']\n",
      "系统界面软件ui后台管理网页设计saas设计erp设计网站\n",
      "5000\n",
      "百荣科技-国家高新企业\n",
      "['长沙']\n",
      "北京软件开发|OA saas ERP CRM 功能开发|系统\n",
      "10000\n",
      "艺点意创品牌策划有限公司\n",
      "['长沙']\n",
      "工具软件二次开发微信小程序定制开发商城saas微信小游戏开发\n",
      "12000\n",
      "壹点胜科技\n",
      "['长沙']\n",
      "微信存包柜开发-租赁柜-小程序智能柜-共享储物柜-电子柜开发\n",
      "20000\n",
      "金桥网络旗舰店【13年互联网品牌】\n",
      "['长沙']\n",
      "企业管理软件开发/saas行业应用软件系统软件工具软件开发\n",
      "1000\n",
      "正拓计算机科技有限公司\n",
      "['长沙']\n",
      "APP开发/物联网/软件开发/saas软件/小程序/智慧物业\n",
      "2000\n",
      "宏梦创客\n",
      "['长沙']\n",
      "建材saas管理系统，门窗定制系统，门窗社区团购系统\n",
      "19999\n",
      "深圳市三十天科技有限公司\n",
      "['长沙']\n",
      "【门店saas系统开发】门店会员管理/收银管理/saas系统\n",
      "4000\n",
      "天迅达科技-国家高新技术企业\n",
      "['长沙']\n",
      "App开发后台saas私人定制住房直播教学软件热点\n",
      "3200\n",
      "重庆茗心科技有限公司\n",
      "['长沙']\n",
      "模板小程序/微信小程序/saas小程序/成品小程序\n",
      "2999\n",
      "指环掌柜\n",
      "['长沙']\n",
      "软件定制/成品购买/ERP、CRM、OA、WMS\n",
      "30000\n",
      "中知信网络科技\n",
      "['长沙']\n",
      "信息系统开发软硬件信息python后端开发数据处理\n",
      "5000\n",
      "讯资软件-50人技术团队8年经验南部大区行业之星\n",
      "['长沙']\n",
      "企业办公OA系统 ERP系统 软件/saas oa软件开发\n",
      "18888\n",
      "桥通天下-国家高新技术企业\n",
      "['长沙']\n",
      "定制开发C/S定制开发|软件服务|智能平台|商城系统\n",
      "10000\n",
      "正拓计算机科技有限公司\n",
      "['长沙']\n",
      "软件开发/CRM/物联网/saas软件/工具软件/办公软件\n",
      "20000\n",
      "金桥网络旗舰店【13年互联网品牌】\n",
      "['长沙']\n",
      "企业管理软件开发/saas行业应用软件系统软件工具软件开发\n",
      "480\n",
      "千红视觉\n",
      "['长沙']\n",
      "管理软件界面区块链ui进销存saas界面ERP设计办公ui\n",
      "38000\n",
      "小为信息-您的1对1技术服务合作伙伴\n",
      "['长沙']\n",
      "软件开发进存销软件saas系统CRM管理系统OA系统会员管理\n",
      "2500\n",
      "荣鹊科技\n",
      "['长沙']\n",
      "开发工具企业管理行业应用嵌入式区块链应用saas成品设计网站\n",
      "12000\n",
      "微联利万专业APP定制开发-十年行业沉淀\n",
      "['长沙']\n",
      "【企业管理软件开发】定制CRM/ERP/OA/saas等系统\n",
      "5000\n",
      "至德讯通\n",
      "['长沙']\n",
      "北京软件开发|OA saas ERP CRM 功能开发|系统\n",
      "5000\n",
      "讯资软件-50人技术团队8年经验南部大区行业之星\n",
      "['长沙']\n",
      "企业办公OA系统/ERP系统/软件/saas/erp企业管理\n",
      "19999\n",
      "深圳市三十天科技有限公司\n",
      "['长沙']\n",
      "【门店saas系统开发】门店会员管理/收银管理/saas系统\n",
      "500\n",
      "赵小马网络科技-国家高新技术企业\n",
      "['长沙']\n",
      "软件界面设计企业OA saas ERP CRM功能系统开发\n",
      "3000\n",
      "奔斧科技\n",
      "['长沙']\n",
      "软件开发|系统定制|OA saas ERP CRM 功能开发\n",
      "2900\n",
      "天迅达科技-国家高新技术企业\n",
      "['长沙']\n",
      "小程序开发互联网学校公众号定制设计开saas微网站微信\n",
      "2000\n",
      "宏梦创客\n",
      "['长沙']\n",
      "建材saas管理系统，门窗定制系统，门窗社区团购系统\n",
      "30000\n",
      "中知信网络科技\n",
      "['长沙']\n",
      "信息系统开发软硬件信息python后端开发数据处理\n",
      "12000\n",
      "恒屹科技\n",
      "['长沙']\n",
      "连锁门店管理系统会员收银管理进销存财务商品库存管理\n",
      "5000\n",
      "麦秸映像IT开发-微信/小程序/app\n",
      "['长沙']\n",
      "软件开发/saas/数据库/IT开发/网站定制开发/php\n",
      "9900\n",
      "百荣科技-国家高新企业\n",
      "['长沙']\n",
      "CRM|OA|saas会员管理系统|进库存系统|定制餐饮开发\n",
      "2999\n",
      "指环掌柜\n",
      "['长沙']\n",
      "软件定制/成品购买/ERP、CRM、OA、WMS\n",
      "1688\n",
      "骐翔网络10年老店\n",
      "['长沙']\n",
      "区块链开发物联网saas软件模板响应式网站\n",
      "10000\n",
      "艺点意创品牌策划有限公司\n",
      "['长沙']\n",
      "工具软件二次开发微信小程序定制开发商城saas微信小游戏开发\n",
      "12800\n",
      "小当家ISV\n",
      "['长沙']\n",
      "直销系统开发|三级分销|极差分红|双轨公排|APP定制开发\n",
      "20000\n",
      "草儿绽放科技-国家高新技术企业\n",
      "['长沙']\n",
      "OEM定制开发/账号管理数据统计/分发系统/内容saas系统\n",
      "1000\n",
      "简意电商连锁品牌店\n",
      "['长沙']\n",
      "公司企业网站建设开发模板建站网站网页制作设计手机电商网站定制\n",
      "1000\n",
      "简意电商I电商全案服务机构\n",
      "['长沙']\n",
      "【企业网站建设】网页设计/网站制作/网站开发 定制 手机建站\n",
      "1000\n",
      "晟轩科技- 入驻14年国家高新技术企业\n",
      "['长沙']\n",
      "微信小程序开发微信开发公众号开发生鲜电商超市拼团商城小程序\n",
      "2549\n",
      "久鑫网络-久久网络品牌建站(13年老店)\n",
      "['长沙']\n",
      "企业网站建设后端开发做定制响应式搭建商城营销型网页制作外贸\n",
      "3000\n",
      "冰雪网络\n",
      "['长沙']\n",
      "企业网站建设网站制作网站设计公司官网网站开发展示网站定制改版\n",
      "1397\n",
      "千界科技-国家高企双软企业\n",
      "['长沙']\n",
      "微信小程序开发定制公众号微商城扫码点餐成品电商外卖H5开发\n",
      "260\n",
      "东野UI\n",
      "['长沙']\n",
      "UI设计网站ui软件界面/网页制作美工手机移动端APP小程序\n",
      "10000\n",
      "国家高新技术企业-500人技术开发团队\n",
      "['长沙']\n",
      "社交直播APP平台开发短视频系统源码搭建语音聊天app定制作\n",
      "2000\n",
      "鲁班开发\n",
      "['长沙']\n",
      "微信小程序开发微信开发公众号app开发网站APP商城定制模板\n",
      "6800\n",
      "光荣网络光荣文创\n",
      "['长沙']\n",
      "公司企业网站建设官网网站制作网站开发网站设计商城网站光荣网络\n",
      "3800\n",
      "网帆科技【12年互联网品牌】\n",
      "['长沙']\n",
      "微信小程序分销商城招聘点餐饮跑腿预约系统公众号H5定制作开发\n",
      "2890\n",
      "科威鲸网络-国家高企(12年实体品牌)\n",
      "['长沙']\n",
      "企业网站建设 网站定制开发 网站制作 网站设计 响应式科威鲸\n",
      "600\n",
      "争流品牌策划\n",
      "['长沙']\n",
      "企业个人手机模板建站微官网站建设定制作开发网页设计仿站商城\n",
      "2000\n",
      "千树设计领航店\n",
      "['长沙']\n",
      "千树网站建设公司官网手机电商商城企业网站前端开发UIH5设计\n",
      "2800\n",
      "智企云科技有限公司\n",
      "['长沙']\n",
      "企业定制网站企业小程序公众号企业app定制开发售后无忧\n",
      "500\n",
      "蚁创创意设计有限公司\n",
      "['长沙']\n",
      "ui设计APP界面移动网页UI设计软件界面设计微信小程序定制\n",
      "3000\n",
      "达者网络\n",
      "['长沙']\n",
      "小程序开发|公众号开发|小程序定制开发|微信小程序定制开发\n",
      "2500\n",
      "六牛科技旗舰店\n",
      "['长沙']\n",
      "APP开发点餐/生鲜配送/积分商城|外卖|安卓应用移动开发\n",
      "10000\n",
      "九宸软件定制\n",
      "['长沙']\n",
      "APP开发|安卓开发|IOS开发|APP定制开发|移动开发\n",
      "499\n",
      "谭壹视觉设计\n",
      "['长沙']\n",
      "网页UI设计H5页面APP小程序页面设计美工外包\n",
      "199\n",
      "7be科技软件研发\n",
      "['长沙']\n",
      "【热】CMS快速模板建站/企业官网模板建站/香港服务器一年\n",
      "18000\n",
      "弈序科技-专业APP定制\n",
      "['长沙']\n",
      "直播app开发|平台直播商城|直播app定制软件开发\n",
      "3980\n",
      "致力于打造优质软件~罗网团队\n",
      "['长沙']\n",
      "【罗网微擎应用开发】人人商城微课堂名片出行表单外卖点餐二开\n",
      "100\n",
      "西美视觉设计\n",
      "['长沙']\n",
      "UI设计APPUI移动ui网页设计系统界面设计微信定制小程序\n",
      "16000\n",
      "天籁信息科技有限公司APP小程序网站开发\n",
      "['长沙']\n",
      "原生混合安卓IOS行业机构电商商城分销APP定制开发设计制作\n",
      "4800\n",
      "海拔集团海拔网络\n",
      "['长沙']\n",
      "三级分销商城小程序微信支付H5公众号平台代运营微信定制开发\n",
      "2000\n",
      "今亮网络\n",
      "['长沙']\n",
      "H5定制开发前端切图HTMl切图游戏开发网站开发响应式设计\n",
      "1999\n",
      "匠云网络科技\n",
      "['长沙']\n",
      "H5公众号开发（商城类，办公类，社交类，教育类，房地产）\n",
      "260\n",
      "易酷创意\n",
      "['长沙']\n",
      "ui设计app界面设计移动应用设计ui界面设计appui设计\n",
      "10000\n",
      "智信联行-软件快速开发/文博行业软件开发/大数据\n",
      "['长沙']\n",
      "博物馆内部移动应用\n",
      "[]\n",
      "[]\n",
      "[]\n",
      "\n",
      "18888\n",
      "河南玖朗网络科技有限公司\n",
      "['长沙']\n",
      "【开发定制】娱乐/游戏/旅游/交友/直播/美食/小程序/网站\n",
      "39800\n",
      "82超品\n",
      "['长沙']\n",
      "原生app开发|定制开发|安卓开发|ios开发|跨境电商\n",
      "2000\n",
      "识乐科技中心\n",
      "['长沙']\n",
      "餐饮配送网站设计展示网站企业官网响应式网站前端开发\n",
      "5999\n",
      "米达科技\n",
      "['长沙']\n",
      "oa/ crm / erp管理系统定制开发/Java专业定制\n"
     ]
    }
   ],
   "source": [
    "# /html/body/div[6]/div/div/div[2]/div[5]/div[1]/div[1] 第一个公司的div\n",
    "divs = html.xpath(\"/html/body/div[6]/div/div/div[2]/div[5]/div[1]/div\")\n",
    "# price = []\n",
    "# title = []\n",
    "# mount = []\n",
    "# name = []\n",
    "# city = []\n",
    "for div in divs:\n",
    "    price=div.xpath(\"./div/div/a[1]/div[2]/div[1]/span[1]/text()\")\n",
    "    if price !=[]:\n",
    "        price=price[0].strip('¥')\n",
    "    title=\"saas\".join(div.xpath(\"./div/div/a[1]/div[2]/div[2]/p/text()\"))\n",
    "#     mount=div.xpath(\"./div/div/a[1]/div[2]/div[1]/span[2]/text()\")\n",
    "    name=div.xpath(\"./div/div/a[2]/div[1]/p/text()\")\n",
    "    if name !=[]:\n",
    "        name = name[1].strip('\\n') \n",
    "    city=div.xpath(\"./div/div/a[2]/div[1]/div/span/text()\")\n",
    "#     print(price.index(''))\n",
    "    print(price)\n",
    "#     print(len(price))\n",
    "#     print(mount)\n",
    "#     print(len(mount))\n",
    "    print(name)\n",
    "#     print(len(name))\n",
    "    print(city)\n",
    "#     print(len(city))\n",
    "    print(title)\n",
    "#     print(len(title))"
   ]
  },
  {
   "cell_type": "code",
   "execution_count": null,
   "id": "657d500a",
   "metadata": {},
   "outputs": [],
   "source": []
  }
 ],
 "metadata": {
  "kernelspec": {
   "display_name": "Python 3 (ipykernel)",
   "language": "python",
   "name": "python3"
  },
  "language_info": {
   "codemirror_mode": {
    "name": "ipython",
    "version": 3
   },
   "file_extension": ".py",
   "mimetype": "text/x-python",
   "name": "python",
   "nbconvert_exporter": "python",
   "pygments_lexer": "ipython3",
   "version": "3.8.5"
  }
 },
 "nbformat": 4,
 "nbformat_minor": 5
}
