{
 "cells": [
  {
   "cell_type": "code",
   "execution_count": 14,
   "id": "8a4b2de4",
   "metadata": {},
   "outputs": [],
   "source": [
    "from selenium import webdriver\n",
    "import time\n",
    "from selenium.webdriver.chrome.options import Options\n",
    "from selenium.webdriver.common.keys import Keys\n",
    "chrome_options = webdriver.ChromeOptions()\n",
    "\n",
    "chrome_options.add_argument('--no-sandbox')\n",
    "chrome_options.add_argument('--disable-gpu')\n",
    "chrome_options.add_argument('--disable-dev-shm-usage')\n",
    "\n",
    "\n",
    "web1 = webdriver.Chrome(options=chrome_options)\n",
    "\n",
    "web1.get(\"http://www.lagou.com\")\n",
    "time.sleep(2)"
   ]
  },
  {
   "cell_type": "markdown",
   "id": "f2eccf20",
   "metadata": {},
   "source": [
    "### 找到某个元素，点击他"
   ]
  },
  {
   "cell_type": "code",
   "execution_count": 15,
   "id": "1528bfe8",
   "metadata": {},
   "outputs": [],
   "source": [
    "element1 = web1.find_element_by_xpath('//*[@id=\"changeCityBox\"]/p[1]/a')\n",
    "element1.click()\n",
    "time.sleep(1)"
   ]
  },
  {
   "cell_type": "markdown",
   "id": "f440362c",
   "metadata": {},
   "source": [
    "### 找到输入框输入python"
   ]
  },
  {
   "cell_type": "code",
   "execution_count": 16,
   "id": "b79a0143",
   "metadata": {},
   "outputs": [],
   "source": [
    "web1.find_element_by_xpath('//*[@id=\"search_input\"]').send_keys(\"python\", Keys.ENTER)\n",
    "time.sleep(1)"
   ]
  },
  {
   "cell_type": "markdown",
   "id": "275befe8",
   "metadata": {},
   "source": [
    "### 查找存储元素的位置，并下载"
   ]
  },
  {
   "cell_type": "code",
   "execution_count": 18,
   "id": "42492782",
   "metadata": {},
   "outputs": [
    {
     "name": "stdout",
     "output_type": "stream",
     "text": [
      "[<selenium.webdriver.remote.webelement.WebElement (session=\"94be34573624e6eb5ce16b94e8dfc64e\", element=\"778af36d-d425-4275-beb0-d7e06440d0ca\")>, <selenium.webdriver.remote.webelement.WebElement (session=\"94be34573624e6eb5ce16b94e8dfc64e\", element=\"7a5aea80-9e40-4f00-81f5-5f4131184593\")>, <selenium.webdriver.remote.webelement.WebElement (session=\"94be34573624e6eb5ce16b94e8dfc64e\", element=\"6bb83b13-0585-43d4-afdd-c49301ad42a1\")>, <selenium.webdriver.remote.webelement.WebElement (session=\"94be34573624e6eb5ce16b94e8dfc64e\", element=\"a95c258c-19a4-4ae7-b0b8-7258fa2dba12\")>, <selenium.webdriver.remote.webelement.WebElement (session=\"94be34573624e6eb5ce16b94e8dfc64e\", element=\"228c5ab9-1b05-4e2d-a5ae-6e58f7d0e086\")>, <selenium.webdriver.remote.webelement.WebElement (session=\"94be34573624e6eb5ce16b94e8dfc64e\", element=\"4aba0089-39ce-4cc2-825b-676f467cb161\")>, <selenium.webdriver.remote.webelement.WebElement (session=\"94be34573624e6eb5ce16b94e8dfc64e\", element=\"5a72586a-0b4e-4abf-8f94-1ff34f16caaf\")>, <selenium.webdriver.remote.webelement.WebElement (session=\"94be34573624e6eb5ce16b94e8dfc64e\", element=\"22520911-f1dd-426c-8ca9-b87de045fc08\")>, <selenium.webdriver.remote.webelement.WebElement (session=\"94be34573624e6eb5ce16b94e8dfc64e\", element=\"1b636652-bf68-4681-9506-1a66d2e7e6ac\")>, <selenium.webdriver.remote.webelement.WebElement (session=\"94be34573624e6eb5ce16b94e8dfc64e\", element=\"1a9afaff-da51-4aa2-9210-ef4103f294bc\")>, <selenium.webdriver.remote.webelement.WebElement (session=\"94be34573624e6eb5ce16b94e8dfc64e\", element=\"884d410c-3a78-4cbe-8d6e-c5d732ca1dc7\")>, <selenium.webdriver.remote.webelement.WebElement (session=\"94be34573624e6eb5ce16b94e8dfc64e\", element=\"3eb1502a-35b8-47ea-910d-1b116fcb33ee\")>, <selenium.webdriver.remote.webelement.WebElement (session=\"94be34573624e6eb5ce16b94e8dfc64e\", element=\"7e53b6f1-5af8-4270-8753-25de07876b09\")>, <selenium.webdriver.remote.webelement.WebElement (session=\"94be34573624e6eb5ce16b94e8dfc64e\", element=\"26fdc21e-e823-462c-85bb-54ecb930bf67\")>, <selenium.webdriver.remote.webelement.WebElement (session=\"94be34573624e6eb5ce16b94e8dfc64e\", element=\"ff1cf8ff-bf24-4e47-8bd6-4bd60efe7f1b\")>]\n"
     ]
    }
   ],
   "source": [
    "li_list = web1.find_elements_by_xpath('//*[@id=\"s_position_list\"]/ul/li')"
   ]
  },
  {
   "cell_type": "code",
   "execution_count": 31,
   "id": "3355c32a",
   "metadata": {},
   "outputs": [
    {
     "name": "stdout",
     "output_type": "stream",
     "text": [
      "思杰马克丁 python开发工程师 10k-16k 苏州·葑门 10k-16k 经验3-5年 / 大专\n",
      "名气家 python开发工程师 10k-15k 上海·杨浦区 10k-15k 经验1-3年 / 本科\n",
      "拉勾集团 Python 20k-40k 北京·海淀区 20k-40k 经验不限 / 本科\n",
      "行云智能 Python开发工程师 10k-20k 深圳·南头 10k-20k 经验1-3年 / 本科\n",
      "楚星软件 python开发工程师 13k-25k 深圳·南山区 13k-25k 经验3-5年 / 大专\n",
      "翼果科技 Python开发工程师 12k-20k 深圳·南山区 12k-20k 经验1-3年 / 本科\n",
      "天上昀 python工程师 15k-25k 深圳·龙岗区 15k-25k 经验3-5年 / 大专\n",
      "爱范儿 Python开发工程师 20k-30k 广州·客村 20k-30k 经验3-5年 / 本科\n",
      "爱范儿 Python开发工程师 10k-20k 广州·客村 10k-20k 经验1-3年 / 本科\n",
      "翼果科技 python开发工程师 12k-20k 深圳·大冲 12k-20k 经验1年以下 / 本科\n",
      "白杨时代 python开发工程师 15k-30k 北京·清河 15k-30k 经验不限 / 本科\n",
      "盛迪嘉支付 python开发工程师 15k-25k 深圳·科技园 15k-25k 经验3-5年 / 本科\n",
      "高考直通车 python开发工程师 10k-20k 广州·五山 10k-20k 经验1-3年 / 本科\n",
      "柒零壹 python开发工程师 15k-30k 深圳·大冲 15k-30k 经验3-5年 / 本科\n",
      "MINIEYE Python工程师 15k-30k 深圳·大冲 15k-30k 经验1-3年 / 本科\n"
     ]
    }
   ],
   "source": [
    "for li in li_list:\n",
    "    company_nam = li.find_element_by_xpath('./div/div[2]/div[1]/a').text\n",
    "    job_name = li.find_element_by_tag_name('h3').text\n",
    "    add = li.find_element_by_tag_name('em').text\n",
    "    money = li.find_element_by_class_name('money').text\n",
    "    tiaojian = li.find_elements_by_class_name('li_b_l')[0].text\n",
    "    print(company_nam,job_name,money,add,tiaojian)"
   ]
  },
  {
   "cell_type": "code",
   "execution_count": 36,
   "id": "396986b4",
   "metadata": {},
   "outputs": [],
   "source": [
    "job = web1.find_element_by_tag_name('h3')\n",
    "job.click()\n",
    "time.sleep(1)"
   ]
  },
  {
   "cell_type": "markdown",
   "id": "56cf1984",
   "metadata": {},
   "source": [
    "### 切换新窗口 "
   ]
  },
  {
   "cell_type": "code",
   "execution_count": 37,
   "id": "a0b098c9",
   "metadata": {},
   "outputs": [],
   "source": [
    "web1.switch_to.window(web1.window_handles[-1])\n"
   ]
  },
  {
   "cell_type": "markdown",
   "id": "599b1624",
   "metadata": {},
   "source": [
    "### 在新窗口提取内容"
   ]
  },
  {
   "cell_type": "code",
   "execution_count": 40,
   "id": "8113a77e",
   "metadata": {},
   "outputs": [
    {
     "name": "stdout",
     "output_type": "stream",
     "text": [
      "工作内容：\n",
      "\n",
      "1、从事软件开发工作，负责系统的设计、开发工作；\n",
      "\n",
      "2、负责CRM系统开发和维护，解决系统中的关键问题和技术难题\n",
      "\n",
      "3、负责相关技术文档编写工作\n",
      "\n",
      "任职资格：\n",
      "\n",
      "1.计算机、软件、数学等相关专业, 一年以上工作经验，熟练使用MySQL数据库\n",
      "\n",
      "2.熟悉Python，熟悉django、flask、fastapi等至少一种， 并有1年以上该框架的开发经验\n",
      "\n",
      "3. 熟悉Linux系统，熟悉基本的操作指令和shell脚本编写\n",
      "\n",
      "4 熟悉常用第三方组件，包括但不限于Redis、Nginx\n",
      "\n",
      "5 熟悉HTML、CSS、JS 的基本开发\n",
      "\n",
      "6. 熟悉爬虫者优先\n"
     ]
    }
   ],
   "source": [
    "job_bt = web1.find_element_by_xpath('//*[@id=\"job_detail\"]/dd[2]/div').text\n",
    "print(job_bt)"
   ]
  },
  {
   "cell_type": "code",
   "execution_count": 41,
   "id": "45085aa1",
   "metadata": {},
   "outputs": [],
   "source": [
    "web1.switch_to.window(web1.window_handles[0])"
   ]
  },
  {
   "cell_type": "markdown",
   "id": "1b4eb436",
   "metadata": {},
   "source": [
    "### 在页面中遇到iframe 如何处理"
   ]
  },
  {
   "cell_type": "code",
   "execution_count": 43,
   "id": "49a7ecb5",
   "metadata": {},
   "outputs": [],
   "source": [
    "\n",
    "web1.get('https://www.91kanju.com/vod-play/57218-2-1.html')\n",
    "time.sleep(3)"
   ]
  },
  {
   "cell_type": "code",
   "execution_count": 44,
   "id": "42c84a47",
   "metadata": {},
   "outputs": [
    {
     "ename": "NoSuchElementException",
     "evalue": "Message: no such element: Unable to locate element: {\"method\":\"xpath\",\"selector\":\"//*[@id=\"player_iframe\"]\"}\n  (Session info: chrome=92.0.4515.107)\n",
     "output_type": "error",
     "traceback": [
      "\u001b[1;31m---------------------------------------------------------------------------\u001b[0m",
      "\u001b[1;31mNoSuchElementException\u001b[0m                    Traceback (most recent call last)",
      "\u001b[1;32m~\\LOCALS~1\\Temp/ipykernel_8724/1377862391.py\u001b[0m in \u001b[0;36m<module>\u001b[1;34m\u001b[0m\n\u001b[1;32m----> 1\u001b[1;33m \u001b[0miframe\u001b[0m \u001b[1;33m=\u001b[0m \u001b[0mweb1\u001b[0m\u001b[1;33m.\u001b[0m\u001b[0mfind_element_by_xpath\u001b[0m\u001b[1;33m(\u001b[0m\u001b[1;34m'//*[@id=\"player_iframe\"]'\u001b[0m\u001b[1;33m)\u001b[0m\u001b[1;33m\u001b[0m\u001b[1;33m\u001b[0m\u001b[0m\n\u001b[0m",
      "\u001b[1;32md:\\miniconda\\lib\\site-packages\\selenium\\webdriver\\remote\\webdriver.py\u001b[0m in \u001b[0;36mfind_element_by_xpath\u001b[1;34m(self, xpath)\u001b[0m\n\u001b[0;32m    392\u001b[0m             \u001b[0melement\u001b[0m \u001b[1;33m=\u001b[0m \u001b[0mdriver\u001b[0m\u001b[1;33m.\u001b[0m\u001b[0mfind_element_by_xpath\u001b[0m\u001b[1;33m(\u001b[0m\u001b[1;34m'//div/td[1]'\u001b[0m\u001b[1;33m)\u001b[0m\u001b[1;33m\u001b[0m\u001b[1;33m\u001b[0m\u001b[0m\n\u001b[0;32m    393\u001b[0m         \"\"\"\n\u001b[1;32m--> 394\u001b[1;33m         \u001b[1;32mreturn\u001b[0m \u001b[0mself\u001b[0m\u001b[1;33m.\u001b[0m\u001b[0mfind_element\u001b[0m\u001b[1;33m(\u001b[0m\u001b[0mby\u001b[0m\u001b[1;33m=\u001b[0m\u001b[0mBy\u001b[0m\u001b[1;33m.\u001b[0m\u001b[0mXPATH\u001b[0m\u001b[1;33m,\u001b[0m \u001b[0mvalue\u001b[0m\u001b[1;33m=\u001b[0m\u001b[0mxpath\u001b[0m\u001b[1;33m)\u001b[0m\u001b[1;33m\u001b[0m\u001b[1;33m\u001b[0m\u001b[0m\n\u001b[0m\u001b[0;32m    395\u001b[0m \u001b[1;33m\u001b[0m\u001b[0m\n\u001b[0;32m    396\u001b[0m     \u001b[1;32mdef\u001b[0m \u001b[0mfind_elements_by_xpath\u001b[0m\u001b[1;33m(\u001b[0m\u001b[0mself\u001b[0m\u001b[1;33m,\u001b[0m \u001b[0mxpath\u001b[0m\u001b[1;33m)\u001b[0m\u001b[1;33m:\u001b[0m\u001b[1;33m\u001b[0m\u001b[1;33m\u001b[0m\u001b[0m\n",
      "\u001b[1;32md:\\miniconda\\lib\\site-packages\\selenium\\webdriver\\remote\\webdriver.py\u001b[0m in \u001b[0;36mfind_element\u001b[1;34m(self, by, value)\u001b[0m\n\u001b[0;32m    974\u001b[0m                 \u001b[0mby\u001b[0m \u001b[1;33m=\u001b[0m \u001b[0mBy\u001b[0m\u001b[1;33m.\u001b[0m\u001b[0mCSS_SELECTOR\u001b[0m\u001b[1;33m\u001b[0m\u001b[1;33m\u001b[0m\u001b[0m\n\u001b[0;32m    975\u001b[0m                 \u001b[0mvalue\u001b[0m \u001b[1;33m=\u001b[0m \u001b[1;34m'[name=\"%s\"]'\u001b[0m \u001b[1;33m%\u001b[0m \u001b[0mvalue\u001b[0m\u001b[1;33m\u001b[0m\u001b[1;33m\u001b[0m\u001b[0m\n\u001b[1;32m--> 976\u001b[1;33m         return self.execute(Command.FIND_ELEMENT, {\n\u001b[0m\u001b[0;32m    977\u001b[0m             \u001b[1;34m'using'\u001b[0m\u001b[1;33m:\u001b[0m \u001b[0mby\u001b[0m\u001b[1;33m,\u001b[0m\u001b[1;33m\u001b[0m\u001b[1;33m\u001b[0m\u001b[0m\n\u001b[0;32m    978\u001b[0m             'value': value})['value']\n",
      "\u001b[1;32md:\\miniconda\\lib\\site-packages\\selenium\\webdriver\\remote\\webdriver.py\u001b[0m in \u001b[0;36mexecute\u001b[1;34m(self, driver_command, params)\u001b[0m\n\u001b[0;32m    319\u001b[0m         \u001b[0mresponse\u001b[0m \u001b[1;33m=\u001b[0m \u001b[0mself\u001b[0m\u001b[1;33m.\u001b[0m\u001b[0mcommand_executor\u001b[0m\u001b[1;33m.\u001b[0m\u001b[0mexecute\u001b[0m\u001b[1;33m(\u001b[0m\u001b[0mdriver_command\u001b[0m\u001b[1;33m,\u001b[0m \u001b[0mparams\u001b[0m\u001b[1;33m)\u001b[0m\u001b[1;33m\u001b[0m\u001b[1;33m\u001b[0m\u001b[0m\n\u001b[0;32m    320\u001b[0m         \u001b[1;32mif\u001b[0m \u001b[0mresponse\u001b[0m\u001b[1;33m:\u001b[0m\u001b[1;33m\u001b[0m\u001b[1;33m\u001b[0m\u001b[0m\n\u001b[1;32m--> 321\u001b[1;33m             \u001b[0mself\u001b[0m\u001b[1;33m.\u001b[0m\u001b[0merror_handler\u001b[0m\u001b[1;33m.\u001b[0m\u001b[0mcheck_response\u001b[0m\u001b[1;33m(\u001b[0m\u001b[0mresponse\u001b[0m\u001b[1;33m)\u001b[0m\u001b[1;33m\u001b[0m\u001b[1;33m\u001b[0m\u001b[0m\n\u001b[0m\u001b[0;32m    322\u001b[0m             response['value'] = self._unwrap_value(\n\u001b[0;32m    323\u001b[0m                 response.get('value', None))\n",
      "\u001b[1;32md:\\miniconda\\lib\\site-packages\\selenium\\webdriver\\remote\\errorhandler.py\u001b[0m in \u001b[0;36mcheck_response\u001b[1;34m(self, response)\u001b[0m\n\u001b[0;32m    240\u001b[0m                 \u001b[0malert_text\u001b[0m \u001b[1;33m=\u001b[0m \u001b[0mvalue\u001b[0m\u001b[1;33m[\u001b[0m\u001b[1;34m'alert'\u001b[0m\u001b[1;33m]\u001b[0m\u001b[1;33m.\u001b[0m\u001b[0mget\u001b[0m\u001b[1;33m(\u001b[0m\u001b[1;34m'text'\u001b[0m\u001b[1;33m)\u001b[0m\u001b[1;33m\u001b[0m\u001b[1;33m\u001b[0m\u001b[0m\n\u001b[0;32m    241\u001b[0m             \u001b[1;32mraise\u001b[0m \u001b[0mexception_class\u001b[0m\u001b[1;33m(\u001b[0m\u001b[0mmessage\u001b[0m\u001b[1;33m,\u001b[0m \u001b[0mscreen\u001b[0m\u001b[1;33m,\u001b[0m \u001b[0mstacktrace\u001b[0m\u001b[1;33m,\u001b[0m \u001b[0malert_text\u001b[0m\u001b[1;33m)\u001b[0m\u001b[1;33m\u001b[0m\u001b[1;33m\u001b[0m\u001b[0m\n\u001b[1;32m--> 242\u001b[1;33m         \u001b[1;32mraise\u001b[0m \u001b[0mexception_class\u001b[0m\u001b[1;33m(\u001b[0m\u001b[0mmessage\u001b[0m\u001b[1;33m,\u001b[0m \u001b[0mscreen\u001b[0m\u001b[1;33m,\u001b[0m \u001b[0mstacktrace\u001b[0m\u001b[1;33m)\u001b[0m\u001b[1;33m\u001b[0m\u001b[1;33m\u001b[0m\u001b[0m\n\u001b[0m\u001b[0;32m    243\u001b[0m \u001b[1;33m\u001b[0m\u001b[0m\n\u001b[0;32m    244\u001b[0m     \u001b[1;32mdef\u001b[0m \u001b[0m_value_or_default\u001b[0m\u001b[1;33m(\u001b[0m\u001b[0mself\u001b[0m\u001b[1;33m,\u001b[0m \u001b[0mobj\u001b[0m\u001b[1;33m,\u001b[0m \u001b[0mkey\u001b[0m\u001b[1;33m,\u001b[0m \u001b[0mdefault\u001b[0m\u001b[1;33m)\u001b[0m\u001b[1;33m:\u001b[0m\u001b[1;33m\u001b[0m\u001b[1;33m\u001b[0m\u001b[0m\n",
      "\u001b[1;31mNoSuchElementException\u001b[0m: Message: no such element: Unable to locate element: {\"method\":\"xpath\",\"selector\":\"//*[@id=\"player_iframe\"]\"}\n  (Session info: chrome=92.0.4515.107)\n"
     ]
    }
   ],
   "source": [
    "iframe = web1.find_element_by_xpath('//*[@id=\"player_iframe\"]')\n",
    "web1.switch_to.frame(iframe)"
   ]
  },
  {
   "cell_type": "code",
   "execution_count": 45,
   "id": "59308722",
   "metadata": {},
   "outputs": [],
   "source": [
    "web1.close()"
   ]
  },
  {
   "cell_type": "code",
   "execution_count": null,
   "id": "ab09be9c",
   "metadata": {},
   "outputs": [],
   "source": []
  }
 ],
 "metadata": {
  "kernelspec": {
   "display_name": "Python 3 (ipykernel)",
   "language": "python",
   "name": "python3"
  },
  "language_info": {
   "codemirror_mode": {
    "name": "ipython",
    "version": 3
   },
   "file_extension": ".py",
   "mimetype": "text/x-python",
   "name": "python",
   "nbconvert_exporter": "python",
   "pygments_lexer": "ipython3",
   "version": "3.8.5"
  }
 },
 "nbformat": 4,
 "nbformat_minor": 5
}
