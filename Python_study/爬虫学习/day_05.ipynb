{
 "cells": [
  {
   "cell_type": "markdown",
   "metadata": {},
   "source": [
    "1. 水仙花数"
   ]
  },
  {
   "cell_type": "code",
   "execution_count": 3,
   "metadata": {},
   "outputs": [
    {
     "name": "stdout",
     "output_type": "stream",
     "text": [
      "153\n",
      "370\n",
      "371\n",
      "407\n"
     ]
    }
   ],
   "source": [
    "for i in range(100,1000):\n",
    "    low = i % 10\n",
    "    mid = i // 10 % 10\n",
    "    high = i // 100\n",
    "    if low**3+mid**3+high**3 == i:\n",
    "        print(i)"
   ]
  },
  {
   "cell_type": "markdown",
   "metadata": {},
   "source": [
    "2.反转正整数"
   ]
  },
  {
   "cell_type": "code",
   "execution_count": 20,
   "metadata": {},
   "outputs": [],
   "source": [
    "def r_num(num):\n",
    "    re_num = 0\n",
    "    while num>0:\n",
    "        re_num = re_num*10 + num % 10\n",
    "        num //= 10 \n",
    "        \n",
    "    return re_num\n"
   ]
  },
  {
   "cell_type": "code",
   "execution_count": 23,
   "metadata": {},
   "outputs": [
    {
     "name": "stdout",
     "output_type": "stream",
     "text": [
      "65432\n"
     ]
    }
   ],
   "source": [
    "print(r_num(23456))"
   ]
  },
  {
   "cell_type": "markdown",
   "metadata": {},
   "source": [
    "3.百钱百鸡"
   ]
  },
  {
   "cell_type": "code",
   "execution_count": 27,
   "metadata": {
    "scrolled": true
   },
   "outputs": [
    {
     "name": "stdout",
     "output_type": "stream",
     "text": [
      "0 25 75\n",
      "4 18 78\n",
      "8 11 81\n",
      "12 4 84\n"
     ]
    }
   ],
   "source": [
    "for i in range(0,20):\n",
    "    for j in range(0,34):\n",
    "        if i+j+(100-i*5-j*3)*3 == 100:\n",
    "            print(i,j,100-i-j)"
   ]
  },
  {
   "cell_type": "markdown",
   "metadata": {},
   "source": [
    "练习1 生成**斐波那契数列**的前20个数。"
   ]
  },
  {
   "cell_type": "code",
   "execution_count": 42,
   "metadata": {},
   "outputs": [
    {
     "name": "stdout",
     "output_type": "stream",
     "text": [
      "[1, 1, 2, 3, 5, 8, 13, 21, 34, 55, 89, 144, 233, 377, 610, 987, 1597, 2584, 4181, 6765]\n"
     ]
    }
   ],
   "source": [
    "a = [1,1]\n",
    "for i in range(2,100):\n",
    "    a.append(a[i-1]+a[i-2])\n",
    "print(a[0:20])\n"
   ]
  },
  {
   "cell_type": "markdown",
   "metadata": {},
   "source": [
    "练习2 找出10000以内的**完美数**。"
   ]
  },
  {
   "cell_type": "code",
   "execution_count": 72,
   "metadata": {
    "scrolled": false
   },
   "outputs": [
    {
     "name": "stdout",
     "output_type": "stream",
     "text": [
      "6\n",
      "[1, 2, 3]\n",
      "28\n",
      "[1, 2, 14, 4, 7]\n",
      "496\n",
      "[1, 2, 248, 4, 124, 8, 62, 16, 31]\n"
     ]
    }
   ],
   "source": [
    "import math\n",
    "a = [1]\n",
    "for i in range(2,1000):\n",
    "    for num in range(2,int(math.sqrt(i))+1):\n",
    "        if i%num==0:\n",
    "            a.append(num)\n",
    "            a.append(i//num)\n",
    "    if sum(a) == i:\n",
    "        print(i)\n",
    "        print(a)\n",
    "    a = [1]"
   ]
  },
  {
   "cell_type": "code",
   "execution_count": null,
   "metadata": {},
   "outputs": [],
   "source": []
  }
 ],
 "metadata": {
  "kernelspec": {
   "display_name": "Python 3",
   "language": "python",
   "name": "python3"
  },
  "language_info": {
   "codemirror_mode": {
    "name": "ipython",
    "version": 3
   },
   "file_extension": ".py",
   "mimetype": "text/x-python",
   "name": "python",
   "nbconvert_exporter": "python",
   "pygments_lexer": "ipython3",
   "version": "3.7.4"
  }
 },
 "nbformat": 4,
 "nbformat_minor": 2
}
